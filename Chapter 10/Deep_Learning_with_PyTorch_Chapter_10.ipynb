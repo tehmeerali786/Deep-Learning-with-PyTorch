{
  "nbformat": 4,
  "nbformat_minor": 0,
  "metadata": {
    "colab": {
      "provenance": []
    },
    "kernelspec": {
      "name": "python3",
      "display_name": "Python 3"
    },
    "language_info": {
      "name": "python"
    }
  },
  "cells": [
    {
      "cell_type": "code",
      "execution_count": null,
      "metadata": {
        "colab": {
          "base_uri": "https://localhost:8080/"
        },
        "id": "vMIqHF-7-nTu",
        "outputId": "f7659854-7342-4e1e-df7b-c0b34c2fcca6"
      },
      "outputs": [
        {
          "output_type": "stream",
          "name": "stdout",
          "text": [
            "Downloading files from GitHub repo to Colab...\n",
            "Finished!\n"
          ]
        }
      ],
      "source": [
        "from config import *\n",
        "config_chapter10()\n",
        "\n",
        "from plots.chapter8 import *\n",
        "from plots.chapter9 import *\n",
        "from plots.chapter10 import *"
      ]
    },
    {
      "cell_type": "code",
      "source": [
        "import copy \n",
        "import numpy as np \n",
        "\n",
        "import torch \n",
        "import torch.optim as optim \n",
        "import torch.nn as nn\n",
        "import torch.nn.functional as F\n",
        "from torch.utils.data import DataLoader, Dataset, random_split, TensorDataset \n",
        "from torchvision.transforms import Compose, Normalize, Pad \n",
        "\n",
        "from data_generation.square_sequences import generate_sequences \n",
        "from data_generation.image_classification import generate_dataset \n",
        "from helpers import index_splitter, make_balanced_sampler \n",
        "from stepbystep.v4 import StepByStep \n",
        "\n",
        "# Classes from Chapter 9\n",
        "from seq2seq import PositionalEncoding, subsequent_mask, EncoderDecoderSelfAttn "
      ],
      "metadata": {
        "id": "w-9EC25WAIbh"
      },
      "execution_count": null,
      "outputs": []
    },
    {
      "cell_type": "markdown",
      "source": [
        "# Transform and Roll Out!"
      ],
      "metadata": {
        "id": "ReGJZbd1HZlj"
      }
    },
    {
      "cell_type": "markdown",
      "source": [
        "## Narrow Attention"
      ],
      "metadata": {
        "id": "HLloErdlHiXg"
      }
    },
    {
      "cell_type": "markdown",
      "source": [
        "### Chunking"
      ],
      "metadata": {
        "id": "12RjOvH4HnYo"
      }
    },
    {
      "cell_type": "markdown",
      "source": [
        "![](https://github.com/dvgodoy/PyTorchStepByStep/blob/master/images/attn_narrow_transf.png?raw=1)\n",
        "\n",
        "![](https://github.com/dvgodoy/PyTorchStepByStep/blob/master/images/multihead_chunking.png?raw=1)\n",
        "\n",
        "![](https://github.com/dvgodoy/PyTorchStepByStep/blob/master/images/attn_narrow_first_head.png?raw=1)"
      ],
      "metadata": {
        "id": "TYJZZ31OI4rM"
      }
    },
    {
      "cell_type": "markdown",
      "source": [
        "### Multiheaded Attention"
      ],
      "metadata": {
        "id": "n-gBYmw8JvW7"
      }
    },
    {
      "cell_type": "code",
      "source": [
        "class MultiHeadedAttention(nn.Module):\n",
        "  def __init__(self, n_heads, d_model, dropout=0.1):\n",
        "    super(MultiHeadedAttention, self).__init__()\n",
        "    self.n_heads = n_heads \n",
        "    self.d_model = d_model \n",
        "    self.d_k = int(d_model / n_heads)\n",
        "    self.linear_query = nn.Linear(d_model, d_model)\n",
        "    self.linear_key = nn.Linear(d_model, d_model)\n",
        "    self.linear_value = nn.Linear(d_model, d_model)\n",
        "    self.linear_out = nn.Linear(d_model, d_model)\n",
        "    self.dropout = nn.Dropout(p=dropout)\n",
        "    self.alphas = None  \n",
        "\n",
        "  def make_chunks(self, x):\n",
        "    batch_size, seq_len = x.size(0), x.size(1)\n",
        "    # N, L, D -> N, L, N n_heads * d_k \n",
        "    x = x.view(batch_size, seq_len, self.n_heads, self.d_k)\n",
        "    # N, n_heads, L, d_k \n",
        "    x = x.transpose(1, 2)\n",
        "    return x \n",
        "\n",
        "  def init_keys(self, key):\n",
        "    # N, n_heads, L, d_k \n",
        "    self.proj_key = self.make_chunks(self.linear_key(key))\n",
        "    self.proj_value = self.make_chunks(self.linear_value(key))\n",
        "\n",
        "  def score_function(self, query):\n",
        "    # scaled dot product \n",
        "    # N, n_heads, L, d_k x # N, n_heads, d_k, L -> N, n_heads, L, L \n",
        "    proj_query = self.make_chunks(self.linear_query(query))\n",
        "    dot_products = torch.matmul(proj_query, self.proj_key.transpose(-2, -1))\n",
        "    scores = dot_products / np.sqrt(self.d_k)\n",
        "    return scores \n",
        "\n",
        "  def attn(self, query, mask=None):\n",
        "    # Querry is batch-first: N, L, D \n",
        "    # Score function will generate scores for each head \n",
        "    scores = self.score_function(query) # N, n_heads, L, L\n",
        "    if mask is not None:\n",
        "      scores = scores.masked_fill(mask == 0, -1e9)\n",
        "    alphas = F.softmax(scores, dim=-1) # N, n_heads, L, L \n",
        "    alphas = self.dropout(alphas)\n",
        "    self.alphas = alphas.detach()\n",
        "\n",
        "    # N, n_heads, L, L x N, n_heads, L, d_k -> N, n_heads, L, d, K \n",
        "    context = torch.matmul(alphas, self.proj_value)\n",
        "    return context \n",
        "\n",
        "  def output_function(self, contexts):\n",
        "    # N, L, D \n",
        "    out = self.linear_out(contexts) # N, L, D \n",
        "    return out \n",
        "\n",
        "  def forward(self, query, mask=None):\n",
        "    if mask is not None:\n",
        "      # N, 1, L, L - every head uses the same mask \n",
        "      mask = mask.unsqueeze(1)\n",
        "\n",
        "    # N, n_heads, L, D, K \n",
        "    context = self.attn(query, mask=mask)\n",
        "    # N, L, n_heads, d_k \n",
        "    context = context.transpose(1, 2).contiguous()\n",
        "    # N, L, n_heads, * d_k = N, L, d_model \n",
        "    context = context.view(query.size(0), -1, self.d_model)\n",
        "    # N, L, d_model \n",
        "    out = self.output_function(context)\n",
        "    return out \n",
        "\n",
        "\n",
        "\n",
        "  \n"
      ],
      "metadata": {
        "id": "24I95SiDDc4n"
      },
      "execution_count": null,
      "outputs": []
    },
    {
      "cell_type": "code",
      "source": [
        "dummy_points = torch.randn(16, 2, 4) # N, L, F\n",
        "mha = MultiHeadedAttention(n_heads=2, d_model=4, dropout=0.0)\n",
        "mha.init_keys(dummy_points)\n",
        "out = mha(dummy_points) # N, L, D\n",
        "out.shape\n"
      ],
      "metadata": {
        "colab": {
          "base_uri": "https://localhost:8080/"
        },
        "id": "o-Fu1jkVWjY3",
        "outputId": "506cea22-2019-495e-c752-1a4bad4189f9"
      },
      "execution_count": null,
      "outputs": [
        {
          "output_type": "execute_result",
          "data": {
            "text/plain": [
              "torch.Size([16, 2, 4])"
            ]
          },
          "metadata": {},
          "execution_count": 4
        }
      ]
    },
    {
      "cell_type": "markdown",
      "source": [
        "![](https://github.com/dvgodoy/PyTorchStepByStep/blob/master/images/attn_narrow_2heads.png?raw=1)"
      ],
      "metadata": {
        "id": "0zwjJq61bVFv"
      }
    },
    {
      "cell_type": "markdown",
      "source": [
        "## Stacking Encoders and Decoders"
      ],
      "metadata": {
        "id": "SNC_W5rPcUET"
      }
    },
    {
      "cell_type": "markdown",
      "source": [
        "![](https://github.com/dvgodoy/PyTorchStepByStep/blob/master/images/stacked_encdec.png?raw=1)"
      ],
      "metadata": {
        "id": "wvMKN5fqoF8t"
      }
    },
    {
      "cell_type": "markdown",
      "source": [
        "![](https://github.com/dvgodoy/PyTorchStepByStep/blob/master/images/stacked_layers.png?raw=1)"
      ],
      "metadata": {
        "id": "os3PuXo2oL1M"
      }
    },
    {
      "cell_type": "markdown",
      "source": [
        "## Wrapping \"Sub-Layers\""
      ],
      "metadata": {
        "id": "GxlMdd1qoVnU"
      }
    },
    {
      "cell_type": "markdown",
      "source": [
        "![](https://github.com/dvgodoy/PyTorchStepByStep/blob/master/images/sublayer.png?raw=1)"
      ],
      "metadata": {
        "id": "K4FE3oJ-ocVa"
      }
    },
    {
      "cell_type": "markdown",
      "source": [
        "$$\n",
        "\\Large\n",
        "\\begin{aligned}\n",
        "&\\text{outputs}_{\\text{norm-last}}=&\\text{norm(inputs + dropout(sublayer(inputs))}\n",
        "\\\\\n",
        "&\\text{outputs}_{\\text{norm-first}}=&\\text{inputs + dropout(sublayer(norm(inputs)))}\n",
        "\\end{aligned}\n",
        "$$"
      ],
      "metadata": {
        "id": "6tLJKByuohw1"
      }
    },
    {
      "cell_type": "markdown",
      "source": [
        "## Transformer Encoder"
      ],
      "metadata": {
        "id": "s0GisBpWolDS"
      }
    },
    {
      "cell_type": "markdown",
      "source": [
        "![](https://github.com/dvgodoy/PyTorchStepByStep/blob/master/images/enc_both.png?raw=1)"
      ],
      "metadata": {
        "id": "bvPOWpt9ooL8"
      }
    },
    {
      "cell_type": "markdown",
      "source": [
        "$$\n",
        "\\large\n",
        "\\begin{aligned}\n",
        "&\\text{outputs}_{\\text{norm-last}}=&\\text{norm}(\\underbrace{\\text{norm(inputs + att(inputs))}}_{\\text{Output of SubLayer}_0} + \\text{ffn}(\\underbrace{\\text{norm(inputs + att(inputs))}}_{\\text{Output of SubLayer}_0}))\n",
        "\\\\\n",
        "\\\\\n",
        "&\\text{outputs}_{\\text{norm-first}}=&\\underbrace{\\text{inputs + att(norm(inputs))}}_{\\text{Output of SubLayer}_0}+\\text{ffn(norm(}\\underbrace{\\text{inputs + att(norm(inputs))}}_{\\text{Output of SubLayer}_0}))\n",
        "\\end{aligned}\n",
        "$$"
      ],
      "metadata": {
        "id": "B4qUdzB2osPE"
      }
    },
    {
      "cell_type": "code",
      "source": [
        "class EncoderLayer(nn.Module):\n",
        "  def __init__(self, n_heads, d_model, ff_units, dropout=0.1):\n",
        "    super().__init__()\n",
        "    self.n_heads = n_heads \n",
        "    self.d_model = d_model \n",
        "    self.ff_units = ff_units \n",
        "    self.self_attn_heads = MultiHeadedAttention(n_heads, d_model, dropout=dropout)\n",
        "\n",
        "    self.ffn = nn.Sequential(\n",
        "        nn.Linear(d_model, ff_units),\n",
        "        nn.ReLU(),\n",
        "        nn.Dropout(),\n",
        "        nn.Linear(ff_units, d_model) \n",
        "    )\n",
        "\n",
        "    self.norm1 = nn.LayerNorm(d_model)\n",
        "    self.norm2 = nn.LayerNorm(d_model)\n",
        "    self.drop1 = nn.Dropout(dropout)\n",
        "    self.drop2 = nn.Dropout(dropout)\n",
        "\n",
        "  def forward(self, query, mask=None):\n",
        "    # Sublayer 0\n",
        "    # Norm \n",
        "    norm_query = self.norm1(query)\n",
        "    # Multi-headed Attention \n",
        "    self.self_attn_heads.init_keys(norm_query)\n",
        "    states = self.self_attn_heads(norm_query, mask)\n",
        "    # Add \n",
        "    att = query + self.drop1(states)\n",
        "\n",
        "    # Sublayer #1\n",
        "    # Norm \n",
        "    norm_att = self.norm2(att)\n",
        "\n",
        "    # Feed Forward \n",
        "    out = self.ffn(norm_att)\n",
        "\n",
        "    # Add\n",
        "    out = att + self.drop2(out)\n",
        "    return out "
      ],
      "metadata": {
        "id": "iuephNRbYc1w"
      },
      "execution_count": null,
      "outputs": []
    },
    {
      "cell_type": "code",
      "source": [
        "class EncoderTransf(nn.Module):\n",
        "  def __init__(self, encoder_layer, n_layers=1, max_len=100):\n",
        "    super().__init__()\n",
        "    self.d_model = encoder_layer.d_model \n",
        "    self.pe = PositionalEncoding(max_len, self.d_model)\n",
        "    self.norm = nn.LayerNorm(self.d_model)\n",
        "    self.layers = nn.ModuleList([copy.deepcopy(encoder_layer)\n",
        "                                 for _ in range(n_layers)])\n",
        "    \n",
        "\n",
        "  def forward(self, query, mask=None):\n",
        "     # Positional Encoding\n",
        "     X = self.pe(query)\n",
        "     for layer in self.layers:\n",
        "       X = layer(X, mask) \n",
        "\n",
        "     # Norm \n",
        "     return self.norm(X)\n"
      ],
      "metadata": {
        "id": "bpfzPXVLwLIH"
      },
      "execution_count": null,
      "outputs": []
    },
    {
      "cell_type": "code",
      "source": [
        "enclayer = nn.TransformerEncoderLayer(d_model=6, nhead=3, dim_feedforward=20)\n",
        "enctransf = nn.TransformerEncoder(enclayer, num_layers=1, norm=nn.LayerNorm)"
      ],
      "metadata": {
        "id": "iTGXzDLy0G2y"
      },
      "execution_count": null,
      "outputs": []
    },
    {
      "cell_type": "markdown",
      "source": [
        "## Transformer Decoder"
      ],
      "metadata": {
        "id": "8t0ZJptC-Z46"
      }
    },
    {
      "cell_type": "markdown",
      "source": [
        "![](https://github.com/dvgodoy/PyTorchStepByStep/blob/master/images/dec_both.png?raw=1)"
      ],
      "metadata": {
        "id": "8ypjTHgo-lY3"
      }
    },
    {
      "cell_type": "code",
      "source": [
        "class DecoderLayer(nn.Module):\n",
        "    def __init__(self, n_heads, d_model, ff_units, dropout=0.1):\n",
        "        super().__init__()\n",
        "        self.n_heads = n_heads\n",
        "        self.d_model = d_model\n",
        "        self.ff_units = ff_units\n",
        "        self.self_attn_heads = MultiHeadedAttention(n_heads, d_model, \n",
        "                                                    dropout=dropout)\n",
        "        self.cross_attn_heads = MultiHeadedAttention(n_heads, d_model,\n",
        "                                                     dropout=dropout)\n",
        "        self.ffn = nn.Sequential(\n",
        "            nn.Linear(d_model, ff_units),\n",
        "            nn.ReLU(),\n",
        "            nn.Dropout(dropout),\n",
        "            nn.Linear(ff_units, d_model),\n",
        "        )\n",
        "        \n",
        "        self.norm1 = nn.LayerNorm(d_model)\n",
        "        self.norm2 = nn.LayerNorm(d_model)\n",
        "        self.norm3 = nn.LayerNorm(d_model)\n",
        "        self.drop1 = nn.Dropout(dropout)\n",
        "        self.drop2 = nn.Dropout(dropout)\n",
        "        self.drop3 = nn.Dropout(dropout)\n",
        "                \n",
        "    def init_keys(self, states):\n",
        "        self.cross_attn_heads.init_keys(states)\n",
        "         \n",
        "    def forward(self, query, source_mask=None, target_mask=None):\n",
        "        # Sublayer #0\n",
        "        # Norm\n",
        "        norm_query = self.norm1(query)\n",
        "        # Masked Multi-head Attention\n",
        "        self.self_attn_heads.init_keys(norm_query)\n",
        "        states = self.self_attn_heads(norm_query, target_mask)\n",
        "        # Add\n",
        "        att1 = query + self.drop1(states)\n",
        "        \n",
        "        # Sublayer #1\n",
        "        # Norm\n",
        "        norm_att1 = self.norm2(att1)\n",
        "        # Multi-head Attention\n",
        "        encoder_states = self.cross_attn_heads(norm_att1, source_mask)\n",
        "        # Add\n",
        "        att2 = att1 + self.drop2(encoder_states)\n",
        "        \n",
        "        # Sublayer #2\n",
        "        # Norm\n",
        "        norm_att2 = self.norm3(att2)\n",
        "        # Feed Forward\n",
        "        out = self.ffn(norm_att2)\n",
        "        # Add\n",
        "        out = att2 + self.drop3(out)\n",
        "        return out"
      ],
      "metadata": {
        "id": "Y2tlGI85-jyx"
      },
      "execution_count": null,
      "outputs": []
    },
    {
      "cell_type": "code",
      "source": [
        "class DecoderTransf(nn.Module):\n",
        "  def __init__(self, decoder_layer, n_layers=1, max_len=100):\n",
        "    super(DecoderTransf, self).__init__()\n",
        "    self.d_model = decoder_layer.d_model\n",
        "    self.pe = PositionalEncoding(max_len, self.d_model)\n",
        "    self.norm = nn.LayerNorm(self.d_model)\n",
        "    self.layers = nn.ModuleList([copy.deepcopy(decoder_layer) for _ in range(n_layers)])\n",
        "\n",
        "  def init_keys(self, states):\n",
        "    for layer in self.layers:\n",
        "      layer.init_keys(states)\n",
        "\n",
        "  def forward(self, query, source_mask=None, target_mask=None):\n",
        "    # Positional Encoding\n",
        "    X = self.pe(query)\n",
        "    for layer in self.layers:\n",
        "      X = layer(X, source_mask, target_mask)\n",
        "    # Norm \n",
        "    return self.norm(X)\n"
      ],
      "metadata": {
        "id": "iNoxUa0MSOIw"
      },
      "execution_count": null,
      "outputs": []
    },
    {
      "cell_type": "code",
      "source": [
        "declayer = nn.TransformerDecoderLayer(d_model=6, nhead=3, dim_feedforward=20)\n",
        "dectransf = nn.TransformerDecoder(declayer, num_layers=1, norm=nn.LayerNorm)"
      ],
      "metadata": {
        "id": "GAb1nXm_VL4C"
      },
      "execution_count": null,
      "outputs": []
    },
    {
      "cell_type": "markdown",
      "source": [
        "## Layer Normalization"
      ],
      "metadata": {
        "id": "aANTt_ijamEq"
      }
    },
    {
      "cell_type": "code",
      "source": [
        "d_model = 4\n",
        "seq_len = 2\n",
        "n_points = 3\n",
        "\n",
        "torch.manual_seed(34)\n",
        "data = torch.randn(n_points, seq_len, d_model)\n",
        "pe = PositionalEncoding(seq_len, d_model)\n",
        "inputs = pe(data)\n",
        "inputs"
      ],
      "metadata": {
        "id": "NEnxDoDFWyJS",
        "colab": {
          "base_uri": "https://localhost:8080/"
        },
        "outputId": "33c0d077-1dcb-40c4-9384-cc1dac05f14e"
      },
      "execution_count": null,
      "outputs": [
        {
          "output_type": "execute_result",
          "data": {
            "text/plain": [
              "tensor([[[-3.8049,  1.9899, -1.7325,  2.1359],\n",
              "         [ 1.7854,  0.8155,  0.1116, -1.7420]],\n",
              "\n",
              "        [[-2.4273,  1.3559,  2.8615,  2.0084],\n",
              "         [-1.0353, -1.2766, -2.2082, -0.6952]],\n",
              "\n",
              "        [[-0.8044,  1.9707,  3.3704,  2.0587],\n",
              "         [ 4.2256,  6.9575,  1.4770,  2.0762]]])"
            ]
          },
          "metadata": {},
          "execution_count": 11
        }
      ]
    },
    {
      "cell_type": "code",
      "source": [
        "data"
      ],
      "metadata": {
        "colab": {
          "base_uri": "https://localhost:8080/"
        },
        "id": "rg63TJknd0of",
        "outputId": "6c0ae32e-03fe-4f75-f687-0e6fca8d4b91"
      },
      "execution_count": null,
      "outputs": [
        {
          "output_type": "execute_result",
          "data": {
            "text/plain": [
              "tensor([[[-1.9024,  0.4950, -0.8662,  0.5679],\n",
              "         [ 0.4720,  0.1376,  0.0508, -1.3710]],\n",
              "\n",
              "        [[-1.2136,  0.1780,  1.4307,  0.5042],\n",
              "         [-0.9384, -0.9085, -1.1091, -0.8476]],\n",
              "\n",
              "        [[-0.4022,  0.4854,  1.6852,  0.5294],\n",
              "         [ 1.6921,  3.2086,  0.7335,  0.5381]]])"
            ]
          },
          "metadata": {},
          "execution_count": 12
        }
      ]
    },
    {
      "cell_type": "markdown",
      "source": [
        "$$\n",
        "\\Large\n",
        "\\overline{X}_{n,l} = \\frac{1}{D}\\sum_{d=1}^Dx_{n,l,d}\n",
        "$$"
      ],
      "metadata": {
        "id": "Vdo-tyauc4vJ"
      }
    },
    {
      "cell_type": "code",
      "source": [
        "inputs_mean = inputs.mean(axis=2).unsqueeze(2)\n",
        "inputs_mean"
      ],
      "metadata": {
        "colab": {
          "base_uri": "https://localhost:8080/"
        },
        "id": "Iy2WgKzLcW8s",
        "outputId": "c64e85de-41ba-435e-96da-7e6004d1bf03"
      },
      "execution_count": null,
      "outputs": [
        {
          "output_type": "execute_result",
          "data": {
            "text/plain": [
              "tensor([[[-0.3529],\n",
              "         [ 0.2426]],\n",
              "\n",
              "        [[ 0.9496],\n",
              "         [-1.3038]],\n",
              "\n",
              "        [[ 1.6489],\n",
              "         [ 3.6841]]])"
            ]
          },
          "metadata": {},
          "execution_count": 13
        }
      ]
    },
    {
      "cell_type": "markdown",
      "source": [
        "$$\n",
        "\\Large\n",
        "\\sigma_{n,l}(X) = \\sqrt{\\frac{1}{D}\\sum_{d=1}^D(x_{n,l,d}-\\overline{X}_{n,l})^2}\n",
        "$$"
      ],
      "metadata": {
        "id": "AftRAiiBdPSf"
      }
    },
    {
      "cell_type": "code",
      "source": [
        "inputs.shape"
      ],
      "metadata": {
        "colab": {
          "base_uri": "https://localhost:8080/"
        },
        "id": "xqaEI145dEEe",
        "outputId": "25b1e44a-0b05-4aed-9cb9-440edbb609cd"
      },
      "execution_count": null,
      "outputs": [
        {
          "output_type": "execute_result",
          "data": {
            "text/plain": [
              "torch.Size([3, 2, 4])"
            ]
          },
          "metadata": {},
          "execution_count": 14
        }
      ]
    },
    {
      "cell_type": "code",
      "source": [
        "inputs[0]"
      ],
      "metadata": {
        "colab": {
          "base_uri": "https://localhost:8080/"
        },
        "id": "Sdu7yCXNdih8",
        "outputId": "a32f4271-db6e-4c66-f84b-46c7478e1bc7"
      },
      "execution_count": null,
      "outputs": [
        {
          "output_type": "execute_result",
          "data": {
            "text/plain": [
              "tensor([[-3.8049,  1.9899, -1.7325,  2.1359],\n",
              "        [ 1.7854,  0.8155,  0.1116, -1.7420]])"
            ]
          },
          "metadata": {},
          "execution_count": 15
        }
      ]
    },
    {
      "cell_type": "code",
      "source": [
        "inputs_var = inputs.var(axis=2, unbiased=False).unsqueeze(2)"
      ],
      "metadata": {
        "id": "ffPINxLzdnXb"
      },
      "execution_count": null,
      "outputs": []
    },
    {
      "cell_type": "code",
      "source": [
        "inputs_var"
      ],
      "metadata": {
        "colab": {
          "base_uri": "https://localhost:8080/"
        },
        "id": "rgzCLF_jfSeW",
        "outputId": "17b09f47-5dfb-4797-8c0c-a82c6b9be95d"
      },
      "execution_count": null,
      "outputs": [
        {
          "output_type": "execute_result",
          "data": {
            "text/plain": [
              "tensor([[[6.3756],\n",
              "         [1.6661]],\n",
              "\n",
              "        [[4.0862],\n",
              "         [0.3153]],\n",
              "\n",
              "        [[2.3135],\n",
              "         [4.6163]]])"
            ]
          },
          "metadata": {},
          "execution_count": 17
        }
      ]
    },
    {
      "cell_type": "code",
      "source": [
        "(inputs - inputs_mean)/torch.sqrt(inputs_var+1e-5)"
      ],
      "metadata": {
        "colab": {
          "base_uri": "https://localhost:8080/"
        },
        "id": "hgx_zZlCfUmF",
        "outputId": "ad1a84dc-823a-47a9-d81d-0d411d2798ce"
      },
      "execution_count": null,
      "outputs": [
        {
          "output_type": "execute_result",
          "data": {
            "text/plain": [
              "tensor([[[-1.3671,  0.9279, -0.5464,  0.9857],\n",
              "         [ 1.1953,  0.4438, -0.1015, -1.5376]],\n",
              "\n",
              "        [[-1.6706,  0.2010,  0.9458,  0.5238],\n",
              "         [ 0.4782,  0.0485, -1.6106,  1.0839]],\n",
              "\n",
              "        [[-1.6129,  0.2116,  1.1318,  0.2695],\n",
              "         [ 0.2520,  1.5236, -1.0272, -0.7484]]])"
            ]
          },
          "metadata": {},
          "execution_count": 18
        }
      ]
    },
    {
      "cell_type": "code",
      "source": [
        "layer_norm = nn.LayerNorm(d_model)\n",
        "layer_norm.state_dict()"
      ],
      "metadata": {
        "colab": {
          "base_uri": "https://localhost:8080/"
        },
        "id": "GoIAsHUbgNH_",
        "outputId": "eb9c679b-e273-4f0b-9516-e7de807ef2d2"
      },
      "execution_count": null,
      "outputs": [
        {
          "output_type": "execute_result",
          "data": {
            "text/plain": [
              "OrderedDict([('weight', tensor([1., 1., 1., 1.])),\n",
              "             ('bias', tensor([0., 0., 0., 0.]))])"
            ]
          },
          "metadata": {},
          "execution_count": 19
        }
      ]
    },
    {
      "cell_type": "code",
      "source": [
        "layer_norm = nn.LayerNorm(d_model)\n",
        "normalized = layer_norm(inputs)\n",
        "\n",
        "normalized[0][0].mean(), normalized[0][0].std(unbiased=False)"
      ],
      "metadata": {
        "colab": {
          "base_uri": "https://localhost:8080/"
        },
        "id": "ouu8rEAsgd9T",
        "outputId": "1d8acea0-7b92-4ee1-f285-a42de3bc0652"
      },
      "execution_count": null,
      "outputs": [
        {
          "output_type": "execute_result",
          "data": {
            "text/plain": [
              "(tensor(-1.4901e-08, grad_fn=<MeanBackward0>),\n",
              " tensor(1.0000, grad_fn=<StdBackward0>))"
            ]
          },
          "metadata": {},
          "execution_count": 20
        }
      ]
    },
    {
      "cell_type": "code",
      "source": [
        "layer_norm.state_dict()"
      ],
      "metadata": {
        "colab": {
          "base_uri": "https://localhost:8080/"
        },
        "id": "hoeYujb4hS6A",
        "outputId": "957d3ff7-15b2-4323-c649-c8043109b2be"
      },
      "execution_count": null,
      "outputs": [
        {
          "output_type": "execute_result",
          "data": {
            "text/plain": [
              "OrderedDict([('weight', tensor([1., 1., 1., 1.])),\n",
              "             ('bias', tensor([0., 0., 0., 0.]))])"
            ]
          },
          "metadata": {},
          "execution_count": 21
        }
      ]
    },
    {
      "cell_type": "markdown",
      "source": [
        "$$\n",
        "\\Large\n",
        "\\text{layer normed}\\ x_{n,l,d} = b_d + w_d\\ \\text{standardized}\\ x_{n,l,d}\n",
        "$$"
      ],
      "metadata": {
        "id": "wWaicnFzjWNd"
      }
    },
    {
      "cell_type": "markdown",
      "source": [
        "$$\n",
        "\\Large\n",
        "\\text{layer normed}\\ x_{n,l,d} = \\text{standardized}\\ x_{n,l,d}\\ \\gamma_d + \\beta_d\n",
        "$$"
      ],
      "metadata": {
        "id": "FxUKckUnjWQh"
      }
    },
    {
      "cell_type": "markdown",
      "source": [
        "### Batch vs Layer"
      ],
      "metadata": {
        "id": "uwQtozqMjz-q"
      }
    },
    {
      "cell_type": "code",
      "source": [
        "torch.manual_seed(23)\n",
        "dummy_points = torch.randn(4, 1, 256)\n",
        "dummy_pe = PositionalEncoding(1, 256)\n",
        "dummy_enc = dummy_pe(dummy_points)\n",
        "dummy_enc"
      ],
      "metadata": {
        "id": "QdAD9umMjQJq",
        "colab": {
          "base_uri": "https://localhost:8080/"
        },
        "outputId": "8f73e7cf-dfaa-45ce-e717-6c11473aa77e"
      },
      "execution_count": null,
      "outputs": [
        {
          "output_type": "execute_result",
          "data": {
            "text/plain": [
              "tensor([[[-14.4193,  10.0495,  -7.8116,  ..., -15.4844, -18.0732,  -3.9566]],\n",
              "\n",
              "        [[  2.6628,  -3.5462, -23.6461,  ...,  -0.9403, -18.4375, -37.4197]],\n",
              "\n",
              "        [[-24.6397,  -1.9127, -16.4244,  ..., -17.3708, -26.0550, -14.0706]],\n",
              "\n",
              "        [[ 13.7988,  21.4612,  10.4125,  ...,  -3.2333, -17.0188,   3.9237]]])"
            ]
          },
          "metadata": {},
          "execution_count": 22
        }
      ]
    },
    {
      "cell_type": "markdown",
      "source": [
        "![](https://github.com/dvgodoy/PyTorchStepByStep/blob/master/images/layer_vs_batch_norm.png?raw=1)"
      ],
      "metadata": {
        "id": "9btkE2PpmkPz"
      }
    },
    {
      "cell_type": "code",
      "source": [
        "fig = hist_encoding(dummy_enc)"
      ],
      "metadata": {
        "colab": {
          "base_uri": "https://localhost:8080/",
          "height": 289
        },
        "id": "_bx31ZpfkR53",
        "outputId": "a4496341-d204-4e2a-cfc7-cdb2ba80fdac"
      },
      "execution_count": null,
      "outputs": [
        {
          "output_type": "display_data",
          "data": {
            "text/plain": [
              "<Figure size 1080x288 with 4 Axes>"
            ],
            "image/png": "[encoded data removed]"
          },
          "metadata": {}
        }
      ]
    },
    {
      "cell_type": "code",
      "source": [
        "layer_normalizer = nn.LayerNorm(256)\n",
        "dummy_normed = layer_normalizer(dummy_enc)\n",
        "dummy_normed"
      ],
      "metadata": {
        "colab": {
          "base_uri": "https://localhost:8080/"
        },
        "id": "E9tCmfWnnJXe",
        "outputId": "615ca220-01aa-4481-9cfb-3d25acc7f37e"
      },
      "execution_count": null,
      "outputs": [
        {
          "output_type": "execute_result",
          "data": {
            "text/plain": [
              "tensor([[[-0.9210,  0.5911, -0.5127,  ..., -0.9868, -1.1467, -0.2744]],\n",
              "\n",
              "        [[ 0.1399, -0.2607, -1.5574,  ..., -0.0925, -1.2214, -2.4460]],\n",
              "\n",
              "        [[-1.5755, -0.1191, -1.0491,  ..., -1.1097, -1.6662, -0.8982]],\n",
              "\n",
              "        [[ 0.8643,  1.3324,  0.6575,  ..., -0.1761, -1.0183,  0.2611]]],\n",
              "       grad_fn=<NativeLayerNormBackward0>)"
            ]
          },
          "metadata": {},
          "execution_count": 24
        }
      ]
    },
    {
      "cell_type": "code",
      "source": [
        "fig = hist_layer_normed(dummy_enc, dummy_normed)"
      ],
      "metadata": {
        "colab": {
          "base_uri": "https://localhost:8080/",
          "height": 289
        },
        "id": "-Bg6PBLKoHnq",
        "outputId": "59ff1287-5d52-42df-e2f8-9e875f0bcfbb"
      },
      "execution_count": null,
      "outputs": [
        {
          "output_type": "display_data",
          "data": {
            "text/plain": [
              "<Figure size 1080x288 with 4 Axes>"
            ],
            "image/png": "[encoded data removed]"
          },
          "metadata": {}
        }
      ]
    },
    {
      "cell_type": "markdown",
      "source": [
        "### Our Seq2Seq Problem"
      ],
      "metadata": {
        "id": "lhrIvhVwpYIh"
      }
    },
    {
      "cell_type": "code",
      "source": [
        "pe = PositionalEncoding(max_len=2, d_model=2)\n",
        "\n",
        "source_seq = torch.tensor([[[ 1.0349,  0.9661], [ 0.8055, -0.9169]]])\n",
        "source_seq_enc = pe(source_seq) \n",
        "source_seq_enc"
      ],
      "metadata": {
        "colab": {
          "base_uri": "https://localhost:8080/"
        },
        "id": "k-1ljLW3okn6",
        "outputId": "159d5a50-702e-43ea-a39d-25542970d896"
      },
      "execution_count": null,
      "outputs": [
        {
          "output_type": "execute_result",
          "data": {
            "text/plain": [
              "tensor([[[ 1.4636,  2.3663],\n",
              "         [ 1.9806, -0.7564]]])"
            ]
          },
          "metadata": {},
          "execution_count": 26
        }
      ]
    },
    {
      "cell_type": "code",
      "source": [
        "norm = nn.LayerNorm(2)"
      ],
      "metadata": {
        "id": "gnR1Q6tnre_w"
      },
      "execution_count": null,
      "outputs": []
    },
    {
      "cell_type": "code",
      "source": [
        "norm(source_seq_enc)"
      ],
      "metadata": {
        "colab": {
          "base_uri": "https://localhost:8080/"
        },
        "id": "CJ-RUXjDrn9B",
        "outputId": "021b827d-33e4-4c49-9202-f59818956cf8"
      },
      "execution_count": null,
      "outputs": [
        {
          "output_type": "execute_result",
          "data": {
            "text/plain": [
              "tensor([[[-1.0000,  1.0000],\n",
              "         [ 1.0000, -1.0000]]], grad_fn=<NativeLayerNormBackward0>)"
            ]
          },
          "metadata": {},
          "execution_count": 28
        }
      ]
    },
    {
      "cell_type": "markdown",
      "source": [
        "### Projections or Embeddings"
      ],
      "metadata": {
        "id": "nj54aBoPsaP4"
      }
    },
    {
      "cell_type": "code",
      "source": [
        "torch.manual_seed(11)\n",
        "proj_dim = 6\n",
        "linear_proj = nn.Linear(2, proj_dim)\n",
        "pe = PositionalEncoding(2, proj_dim)\n",
        "\n",
        "source_seq_proj = linear_proj(source_seq)\n",
        "source_seq_proj_enc = pe(source_seq_proj)\n",
        "source_seq_proj_enc"
      ],
      "metadata": {
        "colab": {
          "base_uri": "https://localhost:8080/"
        },
        "id": "xqVLHB6Irq2B",
        "outputId": "62756ebd-a314-432e-afb4-b7159a887d36"
      },
      "execution_count": null,
      "outputs": [
        {
          "output_type": "execute_result",
          "data": {
            "text/plain": [
              "tensor([[[-2.0934,  1.5040,  1.8742,  0.0628,  0.3034,  2.0190],\n",
              "         [-0.8853,  2.8213,  0.5911,  2.4193, -2.5230,  0.3599]]],\n",
              "       grad_fn=<AddBackward0>)"
            ]
          },
          "metadata": {},
          "execution_count": 29
        }
      ]
    },
    {
      "cell_type": "code",
      "source": [
        "norm = nn.LayerNorm(proj_dim)\n",
        "norm(source_seq_proj_enc)"
      ],
      "metadata": {
        "colab": {
          "base_uri": "https://localhost:8080/"
        },
        "id": "pwIRi4GTtXj9",
        "outputId": "ffd73f2c-5702-41d1-cadf-bb412d1c5cb3"
      },
      "execution_count": null,
      "outputs": [
        {
          "output_type": "execute_result",
          "data": {
            "text/plain": [
              "tensor([[[-1.9061,  0.6287,  0.8896, -0.3868, -0.2172,  0.9917],\n",
              "         [-0.7362,  1.2864,  0.0694,  1.0670, -1.6299, -0.0568]]],\n",
              "       grad_fn=<NativeLayerNormBackward0>)"
            ]
          },
          "metadata": {},
          "execution_count": 30
        }
      ]
    },
    {
      "cell_type": "markdown",
      "source": [
        "## The Transformer"
      ],
      "metadata": {
        "id": "b6M4BeKW4dbb"
      }
    },
    {
      "cell_type": "markdown",
      "source": [
        "![](https://github.com/dvgodoy/PyTorchStepByStep/blob/master/images/full_transformer.png?raw=1)"
      ],
      "metadata": {
        "id": "oQ3Le-4n4pZ5"
      }
    },
    {
      "cell_type": "code",
      "source": [
        "class EncoderDecoderTransf(EncoderDecoderSelfAttn):\n",
        "  def __init__(self, encoder, decoder, input_len, target_len, n_features):\n",
        "    super(EncoderDecoderTransf, self).__init__(encoder, decoder, input_len, target_len)\n",
        "    self.n_features = n_features \n",
        "    self.proj = nn.Linear(n_features, encoder.d_model)\n",
        "    self.linear = nn.Linear(encoder.d_model, n_features)\n",
        "\n",
        "  def encode(self, source_seq, source_mask=None):\n",
        "    # Projection \n",
        "    source_proj = self.proj(source_seq)\n",
        "    encoder_states = self.encoder(source_proj, source_mask)\n",
        "    self.decoder.init_keys(encoder_states)\n",
        "\n",
        "  def decode(self, shifted_target_seq, source_mask=None, target_mask=None):\n",
        "    # Projection\n",
        "    target_proj = self.proj(shifted_target_seq)\n",
        "    outputs = self.decoder(target_proj, \n",
        "                           source_mask = source_mask,\n",
        "                           target_mask = target_mask)\n",
        "    \n",
        "    # Linear \n",
        "    outputs = self.linear(outputs)\n",
        "    return outputs "
      ],
      "metadata": {
        "id": "ovlNEbrCt4V7"
      },
      "execution_count": null,
      "outputs": []
    },
    {
      "cell_type": "code",
      "source": [
        "class EncoderDecoderSelfAttn(nn.Module):\n",
        "    def __init__(self, encoder, decoder, input_len, target_len):\n",
        "      super(EncoderDecoderSelfAttn, self).__init__()\n",
        "      self.encoder = encoder \n",
        "      self.decoder = decoder\n",
        "      self.input_len = input_len \n",
        "      self.target_len = target_len \n",
        "      self.trg_masks = self.subsequent_mask(self.target_len)\n",
        "\n",
        "    @staticmethod\n",
        "    def subsequent_mask(size):\n",
        "      attn_shape = (1, size, size)\n",
        "      subsequent_mask = (1 - torch.triu(torch.ones(attn_shape), diagonal=1))\n",
        "      return subsequent_mask\n",
        "\n",
        "    def encode(self, source_seq, source_mask):\n",
        "      encoder_states = self.encoder(source_seq, source_mask)\n",
        "      self.decoder.init_keys(encoder_states)\n",
        "\n",
        "    def decode(self, shifted_target_seq, source_mask=None, target_mask=None):\n",
        "      outputs = self.decoder(shifted_target_seq, source_mask=source_mask, target_mask=target_mask)\n",
        "      return outputs\n",
        "\n",
        "    def predict(self, source_seq, source_mask):\n",
        "      inputs = source_seq[:, -1:]\n",
        "      for i in range(self.target_len):\n",
        "        out = self.decode(inputs, source_mask, self.trg_mask[:, :i+1, :i+1])\n",
        "        out = torch.cat([inputs, out[:, -1:, :]], dim=-2)\n",
        "      outputs = inputs[:, 1:, :]\n",
        "      return outputs \n",
        "\n",
        "    def forward(self, X, source_mask=None):\n",
        "      self.trg_masks = self.trg_masks.type_as(X).bool()\n",
        "      source_seq = X[:, :self.input_len, :]\n",
        "\n",
        "      self.encode(source_seq, source_mask)\n",
        "      if self.trianing:\n",
        "        shifted_target_seq = X[:, self.input_len-1:-1, :]\n",
        "        outputs = self.decode(shifted_target_seq, source_mask, self.trg_masks)\n",
        "      else:\n",
        "        outputs = self.predict(source_seq, source_mask)\n",
        "\n",
        "      return outputs \n",
        "     \n"
      ],
      "metadata": {
        "id": "lzBGeAA_7NSv"
      },
      "execution_count": null,
      "outputs": []
    },
    {
      "cell_type": "markdown",
      "source": [
        "### Data Preparation"
      ],
      "metadata": {
        "id": "eIlW6-rrCt1h"
      }
    },
    {
      "cell_type": "code",
      "source": [
        "# Generating Training Data \n",
        "points, directions = generate_sequences(n=256, seed=13)\n",
        "full_train = torch.as_tensor(points).float()\n",
        "target_train = full_train[:, 2:]\n",
        "# Generating Test Data \n",
        "test_points, test_directions = generate_sequences(seed=17) \n",
        "full_test = torch.as_tensor(test_points).float()\n",
        "source_test = full_test[:, :2]\n",
        "target_test = full_test[:, 2:]\n",
        "# Datasets and data loaders \n",
        "train_data = TensorDataset(full_train, target_train)\n",
        "test_data = TensorDataset(source_test, target_test)\n",
        "generator = torch.Generator()\n",
        "train_loader = DataLoader(train_data, batch_size=16, shuffle=True, generator=generator)\n",
        "test_loader = DataLoader(test_data, batch_size=16)\n"
      ],
      "metadata": {
        "id": "35wAxEs0xI76",
        "colab": {
          "base_uri": "https://localhost:8080/"
        },
        "outputId": "a003bba4-6210-4695-e2dd-f7a4a275c809"
      },
      "execution_count": null,
      "outputs": [
        {
          "output_type": "stream",
          "name": "stderr",
          "text": [
            "<ipython-input-33-8df915e27228>:3: UserWarning: Creating a tensor from a list of numpy.ndarrays is extremely slow. Please consider converting the list to a single numpy.ndarray with numpy.array() before converting to a tensor. (Triggered internally at ../torch/csrc/utils/tensor_new.cpp:230.)\n",
            "  full_train = torch.as_tensor(points).float()\n"
          ]
        }
      ]
    },
    {
      "cell_type": "code",
      "source": [
        "fig = plot_data(points, directions, n_rows=1)"
      ],
      "metadata": {
        "colab": {
          "base_uri": "https://localhost:8080/",
          "height": 217
        },
        "id": "cOOhdSTsFne0",
        "outputId": "bbf835c1-5c13-480e-cc8d-42422868ed82"
      },
      "execution_count": null,
      "outputs": [
        {
          "output_type": "display_data",
          "data": {
            "text/plain": [
              "<Figure size 1080x216 with 5 Axes>"
            ],
            "image/png": "[encoded data removed]"
          },
          "metadata": {}
        }
      ]
    },
    {
      "cell_type": "markdown",
      "source": [
        "### Model Configuration and Testing"
      ],
      "metadata": {
        "id": "J1WLPbV1Gd0u"
      }
    },
    {
      "cell_type": "code",
      "source": [
        "torch.manual_seed(16)\n",
        "# Layers\n",
        "enclayer = EncoderLayer(n_heads=3, d_model=6, ff_units=10, dropout=0.1)\n",
        "declayer = DecoderLayer(n_heads=3, d_model=6, ff_units=10, dropout=0.1)\n",
        "# Encoder and Decoder\n",
        "enctransf = EncoderTransf(enclayer, n_layers=2)\n",
        "dectransf = DecoderTransf(declayer, n_layers=2)\n",
        "# Transformer\n",
        "model_transf = EncoderDecoderTransf(enctransf, dectransf, input_len=2, target_len=2, n_features=2)\n",
        "loss = nn.MSELoss()\n",
        "optimizer = torch.optim.Adam(model_transf.parameters(), lr=0.01)"
      ],
      "metadata": {
        "id": "oaWvdY23GP6S"
      },
      "execution_count": null,
      "outputs": []
    },
    {
      "cell_type": "code",
      "source": [
        "for p in model_transf.parameters():\n",
        "  if p.dim() > 1:\n",
        "    nn.init.xavier_uniform_(p)\n"
      ],
      "metadata": {
        "id": "VNlBmqJxItB8"
      },
      "execution_count": null,
      "outputs": []
    },
    {
      "cell_type": "code",
      "source": [
        "sbs_seq_transf = StepByStep(model_transf, loss, optimizer)\n",
        "sbs_seq_transf.set_loaders(train_loader, test_loader)\n",
        "sbs_seq_transf.train(50)"
      ],
      "metadata": {
        "id": "Sbc9RXCIVwpy"
      },
      "execution_count": null,
      "outputs": []
    },
    {
      "cell_type": "code",
      "source": [
        "fig = sbs_seq_transf.plot_losses()"
      ],
      "metadata": {
        "colab": {
          "base_uri": "https://localhost:8080/",
          "height": 289
        },
        "id": "SAM3KKkOWSRA",
        "outputId": "9e8c87e9-75e2-4fb1-db7c-1a5a03199147"
      },
      "execution_count": null,
      "outputs": [
        {
          "output_type": "display_data",
          "data": {
            "text/plain": [
              "<Figure size 720x288 with 1 Axes>"
            ],
            "image/png": "[encoded data removed]"
          },
          "metadata": {}
        }
      ]
    },
    {
      "cell_type": "code",
      "source": [
        "torch.manual_seed(11)\n",
        "x, y = next(iter(train_loader))\n",
        "device = sbs_seq_transf.device\n",
        "# Training \n",
        "model_transf.train()\n",
        "loss(model_transf(x.to(device)), y.to(device))"
      ],
      "metadata": {
        "colab": {
          "base_uri": "https://localhost:8080/"
        },
        "id": "zZuULFk5WuaO",
        "outputId": "62ac4dea-6bb0-4a48-eb52-ac5956116437"
      },
      "execution_count": null,
      "outputs": [
        {
          "output_type": "execute_result",
          "data": {
            "text/plain": [
              "tensor(0.0443, grad_fn=<MseLossBackward0>)"
            ]
          },
          "metadata": {},
          "execution_count": 39
        }
      ]
    },
    {
      "cell_type": "code",
      "source": [
        "# Validation\n",
        "model_transf.eval()\n",
        "loss(model_transf(x.to(device)), y.to(device))"
      ],
      "metadata": {
        "colab": {
          "base_uri": "https://localhost:8080/"
        },
        "id": "ECiQ2V6TX1Q7",
        "outputId": "fde244e4-17ae-4648-9c9f-5d5f0fb503c4"
      },
      "execution_count": null,
      "outputs": [
        {
          "output_type": "execute_result",
          "data": {
            "text/plain": [
              "tensor(0.0132)"
            ]
          },
          "metadata": {},
          "execution_count": 40
        }
      ]
    },
    {
      "cell_type": "markdown",
      "source": [
        "### Visualizing Predictions"
      ],
      "metadata": {
        "id": "fexi_MsNYp0z"
      }
    },
    {
      "cell_type": "code",
      "source": [
        "fig = sequence_pred(sbs_seq_transf, full_test, test_directions)"
      ],
      "metadata": {
        "colab": {
          "base_uri": "https://localhost:8080/",
          "height": 511
        },
        "id": "nvx41Aa2YGVq",
        "outputId": "34d94803-6c5f-45e3-c5d5-d9012561df6f"
      },
      "execution_count": null,
      "outputs": [
        {
          "output_type": "display_data",
          "data": {
            "text/plain": [
              "<Figure size 1440x576 with 10 Axes>"
            ],
            "image/png": "[encoded data removed]"
          },
          "metadata": {}
        }
      ]
    },
    {
      "cell_type": "markdown",
      "source": [
        "## Vision Transformer"
      ],
      "metadata": {
        "id": "FUyv4PRSddgh"
      }
    },
    {
      "cell_type": "markdown",
      "source": [
        "### Data Generation & Preparation"
      ],
      "metadata": {
        "id": "d3bnMDIMdkuO"
      }
    },
    {
      "cell_type": "code",
      "source": [
        "images, labels = generate_dataset(img_size=12, n_images=1000, binary=False, seed=17) "
      ],
      "metadata": {
        "id": "zKrxhmaOY3kT"
      },
      "execution_count": null,
      "outputs": []
    },
    {
      "cell_type": "code",
      "source": [
        "img = torch.as_tensor(images[2]).unsqueeze(0).float()/255."
      ],
      "metadata": {
        "id": "qcz4TBCpeW5u"
      },
      "execution_count": null,
      "outputs": []
    },
    {
      "cell_type": "code",
      "source": [
        "fig = plot_images(img, title=False)"
      ],
      "metadata": {
        "colab": {
          "base_uri": "https://localhost:8080/",
          "height": 206
        },
        "id": "4Ptp_oXxeXXk",
        "outputId": "02db5afc-f684-46c4-e2ea-6c575ad228e7"
      },
      "execution_count": null,
      "outputs": [
        {
          "output_type": "display_data",
          "data": {
            "text/plain": [
              "<Figure size 432x216 with 1 Axes>"
            ],
            "image/png": "[encoded data removed]"
          },
          "metadata": {}
        }
      ]
    },
    {
      "cell_type": "code",
      "source": [
        "class TransformedTensorDataset(Dataset):\n",
        "  def __init__(self, x, y, transform=None):\n",
        "    self.x = x \n",
        "    self.y = y \n",
        "    self. transform = transform \n",
        "\n",
        "  def __getitem__(self, index):\n",
        "    x = self.x[index]\n",
        "    if self.transform:\n",
        "      x = self.transform(x)\n",
        "\n",
        "    return x, self.y[index]\n",
        "\n",
        "  def __len__(self):\n",
        "    return len(self.x)\n",
        "\n",
        "\n",
        "# Builds tensor from numpy arrays BEFORE split \n",
        "# Modifies the scale of pixel values from [0, 255] to [0, 1]\n",
        "x_tensor = torch.as_tensor(images / 255).float()\n",
        "y_tensor = torch.as_tensor(labels).long()\n",
        "\n",
        "# Uses index_splitter to generate indices for training and \n",
        "# validation sets\n",
        "train_idx, val_idx = index_splitter(len(x_tensor), [80, 20])\n",
        "# Use indices to perform the split \n",
        "x_train_tensor = x_tensor[train_idx]\n",
        "y_train_tensor = y_tensor[train_idx]\n",
        "x_val_tensor = x_tensor[val_idx]\n",
        "y_val_tensor = y_tensor[val_idx]\n",
        "\n",
        "# We are not doing data augmentation now\n",
        "train_composer = Compose([Normalize(mean=(.5,), std=(.5,))])\n",
        "val_composer = Compose([Normalize(mean=(.5,), std=(.5,))])\n",
        "\n",
        "# Uses custom dataset to apply composed transforms to each set\n",
        "train_dataset = TransformedTensorDataset(x_train_tensor, y_train_tensor, transform=train_composer)\n",
        "val_dataset = TransformedTensorDataset(x_val_tensor, y_val_tensor, transform=val_composer)\n",
        "\n",
        "# Builds a weighted random sampler to handle imbalanced classes\n",
        "sampler = make_balanced_sampler(y_train_tensor)\n",
        "\n",
        "# Uses sampler in the training set to get a blanced data loader \n",
        "train_loader = DataLoader(dataset=train_dataset, batch_size=16, sampler=sampler)\n",
        "val_loader = DataLoader(dataset=val_dataset, batch_size=16)\n"
      ],
      "metadata": {
        "id": "Lat8kzSoef7C"
      },
      "execution_count": null,
      "outputs": []
    },
    {
      "cell_type": "markdown",
      "source": [
        "### Patches"
      ],
      "metadata": {
        "id": "vTdPcCI4poF7"
      }
    },
    {
      "cell_type": "markdown",
      "source": [
        "#### ReArranging"
      ],
      "metadata": {
        "id": "NTs40dmGpvmU"
      }
    },
    {
      "cell_type": "code",
      "source": [
        "# Adapted from https://discuss.pytorch.org/t/tf-extract-image-patches-in-pytorch/43837\n",
        "def extract_image_patches(x, kernel_size, stride=1):\n",
        "  # Extract patches \n",
        "  patches = x.unfold(2, kernel_size, stride)\n",
        "  patches = patches.unfold(3, kernel_size, stride)\n",
        "  patches = patches.permute(0, 2, 3, 1, 4, 5).contiguous()\n",
        "\n",
        "  return patches.view(x.shape[0], patches.shape[1], patches.shape[2], -1)\n"
      ],
      "metadata": {
        "id": "RQs-J_adnff8"
      },
      "execution_count": null,
      "outputs": []
    },
    {
      "cell_type": "code",
      "source": [
        "kernel_size = 4\n",
        "patches = extract_image_patches(img, kernel_size, stride=kernel_size)\n",
        "patches.shape"
      ],
      "metadata": {
        "colab": {
          "base_uri": "https://localhost:8080/"
        },
        "id": "0rfAApfHqv4c",
        "outputId": "588c84ca-f654-454a-c93d-ee5c5ac17658"
      },
      "execution_count": null,
      "outputs": [
        {
          "output_type": "execute_result",
          "data": {
            "text/plain": [
              "torch.Size([1, 3, 3, 16])"
            ]
          },
          "metadata": {},
          "execution_count": 47
        }
      ]
    },
    {
      "cell_type": "code",
      "source": [
        "fig = plot_patches(patches, kernel_size=kernel_size)"
      ],
      "metadata": {
        "colab": {
          "base_uri": "https://localhost:8080/",
          "height": 206
        },
        "id": "mHLMwg82tEHE",
        "outputId": "7d4b8bc2-5a25-4800-d435-de1741bb649d"
      },
      "execution_count": null,
      "outputs": [
        {
          "output_type": "display_data",
          "data": {
            "text/plain": [
              "<Figure size 216x216 with 9 Axes>"
            ],
            "image/png": "[encoded data removed]"
          },
          "metadata": {}
        }
      ]
    },
    {
      "cell_type": "code",
      "source": [
        "seq_patches = patches.view(-1, patches.size(-1))"
      ],
      "metadata": {
        "id": "LGUpaSWCtb0j"
      },
      "execution_count": null,
      "outputs": []
    },
    {
      "cell_type": "code",
      "source": [
        "fig = plot_seq_patches(seq_patches)"
      ],
      "metadata": {
        "colab": {
          "base_uri": "https://localhost:8080/",
          "height": 309
        },
        "id": "inulEXBgxXZi",
        "outputId": "ed356f35-9d62-410a-897c-912eca802117"
      },
      "execution_count": null,
      "outputs": [
        {
          "output_type": "display_data",
          "data": {
            "text/plain": [
              "<Figure size 252x288 with 9 Axes>"
            ],
            "image/png": "[encoded data removed]"
          },
          "metadata": {}
        }
      ]
    },
    {
      "cell_type": "code",
      "source": [
        "# Adapted from https://github.com/lucidrains/vit-pytorch/blob/main/vit_pytorch/vit_pytorch.py\n",
        "# !pip install einops\n",
        "# from einops import rearrange\n",
        "# patches = rearrange(img, 'b c (h p1) (w p2) -> b (h w) (p1 p2 pc)'\n",
        "#                         p1 = kernel_size, p2=kernel_size) \n",
        "#\n",
        "# patches.shape"
      ],
      "metadata": {
        "id": "1-QiTaHfxcPW"
      },
      "execution_count": null,
      "outputs": []
    },
    {
      "cell_type": "markdown",
      "source": [
        "#### Embeddings"
      ],
      "metadata": {
        "id": "5wJAiCSx0F78"
      }
    },
    {
      "cell_type": "code",
      "source": [
        "# Adapted from https://amaarora.github.io/2021/01/18/ViT.html\n",
        "class PatchEmbed(nn.Module):\n",
        "  def __init__(self, img_size=224, patch_size=16, in_channels=3, embed_dim=768, dilation=1):\n",
        "    super().__init__()\n",
        "    num_patches = (img_size // patch_size) * (img_size // patch_size)\n",
        "    self.img_size = img_size\n",
        "    self.patch_size = patch_size \n",
        "    self.num_patches = num_patches\n",
        "    self.proj = nn.Conv2d(in_channels, embed_dim, kernel_size=patch_size, stride=patch_size)\n",
        "\n",
        "  def forward(self, x):\n",
        "    x = self.proj(x).flatten(2).transpose(1, 2)\n",
        "    return x "
      ],
      "metadata": {
        "id": "Dg8Ms6d30Tgo"
      },
      "execution_count": null,
      "outputs": []
    },
    {
      "cell_type": "code",
      "source": [
        "torch.manual_seed(13)\n",
        "patch_embed = PatchEmbed(img.size(-1), kernel_size, 1, kernel_size ** 2)\n",
        "embedded = patch_embed(img)\n",
        "embedded.shape"
      ],
      "metadata": {
        "id": "qE60oVWX2Pr3",
        "colab": {
          "base_uri": "https://localhost:8080/"
        },
        "outputId": "5bd686fd-3bbe-4b0e-e67e-9dce2ce9cb54"
      },
      "execution_count": null,
      "outputs": [
        {
          "output_type": "execute_result",
          "data": {
            "text/plain": [
              "torch.Size([1, 9, 16])"
            ]
          },
          "metadata": {},
          "execution_count": 53
        }
      ]
    },
    {
      "cell_type": "code",
      "source": [
        "fig = plot_seq_patches(embedded[0])"
      ],
      "metadata": {
        "colab": {
          "base_uri": "https://localhost:8080/",
          "height": 309
        },
        "id": "noRnUqV69FzR",
        "outputId": "de837536-941f-46f9-8d72-ba912e01290a"
      },
      "execution_count": null,
      "outputs": [
        {
          "output_type": "display_data",
          "data": {
            "text/plain": [
              "<Figure size 252x288 with 9 Axes>"
            ],
            "image/png": "[encoded data removed]"
          },
          "metadata": {}
        }
      ]
    },
    {
      "cell_type": "markdown",
      "source": [
        "### Special Classifier Token"
      ],
      "metadata": {
        "id": "xBycmOnU-I5o"
      }
    },
    {
      "cell_type": "code",
      "source": [
        "imgs = torch.as_tensor(images[2:4]).float()/255."
      ],
      "metadata": {
        "id": "ru9cPOc-9PMf"
      },
      "execution_count": null,
      "outputs": []
    },
    {
      "cell_type": "code",
      "source": [
        "fig = plot_images(imgs)"
      ],
      "metadata": {
        "colab": {
          "base_uri": "https://localhost:8080/",
          "height": 223
        },
        "id": "Xvcbn8hA_TWE",
        "outputId": "ca68eac8-a472-47f1-a3cb-259209be5425"
      },
      "execution_count": null,
      "outputs": [
        {
          "output_type": "display_data",
          "data": {
            "text/plain": [
              "<Figure size 432x216 with 2 Axes>"
            ],
            "image/png": "[encoded data removed]"
          },
          "metadata": {}
        }
      ]
    },
    {
      "cell_type": "code",
      "source": [
        "embeddeds = patch_embed(imgs)"
      ],
      "metadata": {
        "id": "6z-TLQ8__awo"
      },
      "execution_count": null,
      "outputs": []
    },
    {
      "cell_type": "code",
      "source": [
        "fig = plot_seq_patches_transp(embeddeds,  add_cls=False, title='Image / Sequence')"
      ],
      "metadata": {
        "colab": {
          "base_uri": "https://localhost:8080/",
          "height": 471
        },
        "id": "ft6v8XRLB4AQ",
        "outputId": "2360b919-15d8-495d-cb26-eeb7ccfefb65"
      },
      "execution_count": null,
      "outputs": [
        {
          "output_type": "stream",
          "name": "stderr",
          "text": [
            "/content/plots/chapter10.py:86: UserWarning: FixedFormatter should only be used together with FixedLocator\n",
            "  axs[i+1].set_yticklabels([label], rotation=0)\n"
          ]
        },
        {
          "output_type": "display_data",
          "data": {
            "text/plain": [
              "<Figure size 864x432 with 20 Axes>"
            ],
            "image/png": "[encoded data removed]"
          },
          "metadata": {}
        }
      ]
    },
    {
      "cell_type": "code",
      "source": [
        "fig = plot_seq_patches_transp(embeddeds, add_cls=True, title='Image / Sequence')"
      ],
      "metadata": {
        "colab": {
          "base_uri": "https://localhost:8080/",
          "height": 435
        },
        "id": "jDM_jZJSCKyw",
        "outputId": "a0a5135b-5ad4-48e5-8a59-816d2b3e68f8"
      },
      "execution_count": null,
      "outputs": [
        {
          "output_type": "display_data",
          "data": {
            "text/plain": [
              "<Figure size 864x432 with 22 Axes>"
            ],
            "image/png": "[encoded data removed]"
          },
          "metadata": {}
        }
      ]
    },
    {
      "cell_type": "code",
      "source": [
        "cls_token = nn.Parameter(torch.zeros(1, 1, 16))\n",
        "cls_token"
      ],
      "metadata": {
        "colab": {
          "base_uri": "https://localhost:8080/"
        },
        "id": "dXqOmxqDDBIq",
        "outputId": "66f1581c-8be8-4a81-eff7-f627f2d32495"
      },
      "execution_count": null,
      "outputs": [
        {
          "output_type": "execute_result",
          "data": {
            "text/plain": [
              "Parameter containing:\n",
              "tensor([[[0., 0., 0., 0., 0., 0., 0., 0., 0., 0., 0., 0., 0., 0., 0., 0.]]],\n",
              "       requires_grad=True)"
            ]
          },
          "metadata": {},
          "execution_count": 60
        }
      ]
    },
    {
      "cell_type": "code",
      "source": [
        "images, labels = next(iter(train_loader))\n",
        "images.shape # N, C, H, W"
      ],
      "metadata": {
        "colab": {
          "base_uri": "https://localhost:8080/"
        },
        "id": "CIHMYXUSDTcs",
        "outputId": "388bcf81-df3a-4e68-8520-cd24833a9f87"
      },
      "execution_count": null,
      "outputs": [
        {
          "output_type": "execute_result",
          "data": {
            "text/plain": [
              "torch.Size([16, 1, 12, 12])"
            ]
          },
          "metadata": {},
          "execution_count": 61
        }
      ]
    },
    {
      "cell_type": "code",
      "source": [
        "embed = patch_embed(images)\n",
        "embed.shape # N, L, D"
      ],
      "metadata": {
        "colab": {
          "base_uri": "https://localhost:8080/"
        },
        "id": "6f4_vmOfDcYr",
        "outputId": "7174f589-f9ce-4405-b0f5-d5c7cc38b243"
      },
      "execution_count": null,
      "outputs": [
        {
          "output_type": "execute_result",
          "data": {
            "text/plain": [
              "torch.Size([16, 9, 16])"
            ]
          },
          "metadata": {},
          "execution_count": 62
        }
      ]
    },
    {
      "cell_type": "code",
      "source": [
        "cls_tokens = cls_token.expand(embed.size(0), -1, -1)\n",
        "embed_cls = torch.cat((cls_tokens, embed), dim=1)\n",
        "embed_cls.shape # N, L+1, D"
      ],
      "metadata": {
        "colab": {
          "base_uri": "https://localhost:8080/"
        },
        "id": "C6bxhNVBD7_M",
        "outputId": "5d59a98a-ede2-47cf-c4a5-6c5e3f31c9d0"
      },
      "execution_count": null,
      "outputs": [
        {
          "output_type": "execute_result",
          "data": {
            "text/plain": [
              "torch.Size([16, 10, 16])"
            ]
          },
          "metadata": {},
          "execution_count": 63
        }
      ]
    },
    {
      "cell_type": "markdown",
      "source": [
        "### The Model"
      ],
      "metadata": {
        "id": "TmA2VsleGgJ9"
      }
    },
    {
      "cell_type": "markdown",
      "source": [
        "![](https://github.com/dvgodoy/PyTorchStepByStep/blob/master/images/vit_model.png?raw=1)"
      ],
      "metadata": {
        "id": "7460MGGmKwEp"
      }
    },
    {
      "cell_type": "code",
      "source": [
        "class ViT(nn.Module):\n",
        "    def __init__(self, encoder, img_size, in_channels, patch_size, n_outputs):\n",
        "        super().__init__()\n",
        "        self.d_model = encoder.d_model\n",
        "        self.n_outputs = n_outputs\n",
        "        self.encoder = encoder\n",
        "        self.mlp = nn.Linear(encoder.d_model, n_outputs)\n",
        "\n",
        "        self.embed = PatchEmbed(img_size, patch_size, in_channels, encoder.d_model)\n",
        "        self.cls_token = nn.Parameter(torch.zeros(1, 1, encoder.d_model))\n",
        "        \n",
        "    def preprocess(self, X):\n",
        "        # Patch embeddings\n",
        "        # N, L, F -> N, L, D\n",
        "        src = self.embed(X)\n",
        "        # Special classifier token\n",
        "        # 1, 1, D -> N, 1, D\n",
        "        cls_tokens = self.cls_token.expand(X.size(0), -1, -1)\n",
        "        # Concatenates CLS tokens -> N, 1 + L, D\n",
        "        src = torch.cat((cls_tokens, src), dim=1)\n",
        "        return src\n",
        "    \n",
        "    def encode(self, source):\n",
        "        # Encoder generates \"hidden states\"\n",
        "        states = self.encoder(source)\n",
        "        # Gets state from first token: CLS\n",
        "        cls_state = states[:, 0]  # N, 1, D\n",
        "        return cls_state\n",
        "        \n",
        "    def forward(self, X):\n",
        "        src = self.preprocess(X)\n",
        "        # Featurizer\n",
        "        cls_state = self.encode(src)\n",
        "        # Classifier\n",
        "        out = self.mlp(cls_state) # N, 1, outputs\n",
        "        return out"
      ],
      "metadata": {
        "id": "tUdtI7zIEeDI"
      },
      "execution_count": null,
      "outputs": []
    },
    {
      "cell_type": "markdown",
      "source": [
        "### Model Configuration and Training"
      ],
      "metadata": {
        "id": "Fp4ZngyKGTk1"
      }
    },
    {
      "cell_type": "code",
      "source": [
        "torch.manual_seed(17)\n",
        "layer = EncoderLayer(n_heads=2, d_model=16, ff_units=20)\n",
        "encoder = EncoderTransf(layer, n_layers=1)\n",
        "model_vit = ViT(encoder, img_size=12, in_channels=1, patch_size=4, n_outputs=3)\n",
        "multi_loss_fn = nn.CrossEntropyLoss()\n",
        "optimizer_vit = optim.Adam(model_vit.parameters(), lr=1e-3)\n"
      ],
      "metadata": {
        "id": "mNJGeeTtFK3K"
      },
      "execution_count": null,
      "outputs": []
    },
    {
      "cell_type": "code",
      "source": [
        "sbs_vit = StepByStep(model_vit, multi_loss_fn, optimizer_vit)\n",
        "sbs_vit.set_loaders(train_loader, val_loader)\n",
        "sbs_vit.train(20)\n"
      ],
      "metadata": {
        "id": "S9O8z_9AHRHD"
      },
      "execution_count": null,
      "outputs": []
    },
    {
      "cell_type": "code",
      "source": [
        "fig = sbs_vit.plot_losses()"
      ],
      "metadata": {
        "colab": {
          "base_uri": "https://localhost:8080/",
          "height": 289
        },
        "id": "EG4eH2xoH-Bj",
        "outputId": "09460db1-bcf6-49a4-fc5d-cff62af5893b"
      },
      "execution_count": null,
      "outputs": [
        {
          "output_type": "display_data",
          "data": {
            "text/plain": [
              "<Figure size 720x288 with 1 Axes>"
            ],
            "image/png": "[encoded data removed]"
          },
          "metadata": {}
        }
      ]
    },
    {
      "cell_type": "code",
      "source": [
        "model_vit.cls_token"
      ],
      "metadata": {
        "colab": {
          "base_uri": "https://localhost:8080/"
        },
        "id": "Cwyfja_4MY6C",
        "outputId": "0dd3c330-6486-443d-ad34-52bc9642c70b"
      },
      "execution_count": null,
      "outputs": [
        {
          "output_type": "execute_result",
          "data": {
            "text/plain": [
              "Parameter containing:\n",
              "tensor([[[ 0.0557, -0.0356,  0.0108, -0.0311,  0.0230, -0.0441,  0.0734,\n",
              "          -0.0305,  0.0349, -0.0458,  0.0112, -0.0186,  0.0820, -0.0508,\n",
              "           0.0567, -0.0512]]], requires_grad=True)"
            ]
          },
          "metadata": {},
          "execution_count": 68
        }
      ]
    },
    {
      "cell_type": "code",
      "source": [
        "StepByStep.loader_apply(sbs_vit.val_loader, sbs_vit.correct)"
      ],
      "metadata": {
        "colab": {
          "base_uri": "https://localhost:8080/"
        },
        "id": "jUfK0MfIMuDR",
        "outputId": "668f83a7-7be7-46c8-b4d2-7ae4ff77dc66"
      },
      "execution_count": null,
      "outputs": [
        {
          "output_type": "execute_result",
          "data": {
            "text/plain": [
              "tensor([[76, 76],\n",
              "        [65, 65],\n",
              "        [59, 59]])"
            ]
          },
          "metadata": {},
          "execution_count": 69
        }
      ]
    },
    {
      "cell_type": "markdown",
      "source": [
        "## Putting It All Together"
      ],
      "metadata": {
        "id": "WhLuf1K3N5YR"
      }
    },
    {
      "cell_type": "markdown",
      "source": [
        "### Data Preparation"
      ],
      "metadata": {
        "id": "Pbe-E4JpN-Q4"
      }
    },
    {
      "cell_type": "code",
      "source": [
        "# Training Set \n",
        "points, directions = generate_sequences(n=256, seed=13)\n",
        "full_train = torch.as_tensor(points).float()\n",
        "target_train = full_train[:, 2:]\n",
        "train_data = TensorDataset(full_train, target_train)\n",
        "generator = torch.Generator()\n",
        "train_loader = DataLoader(train_data, batch_size=16, shuffle=True, generator=generator)\n",
        "\n",
        "# Validation/Test Set \n",
        "test_points, test_directions = generate_sequences(seed=17)\n",
        "full_test = torch.as_tensor(test_points).float()\n",
        "source_test = full_test[:, :2]\n",
        "target_test = full_test[:, 2:]\n",
        "test_data = TensorDataset(source_test, target_test)\n",
        "test_loader = DataLoader(test_data, batch_size=16) "
      ],
      "metadata": {
        "id": "rHFcfr_zNLsL"
      },
      "execution_count": null,
      "outputs": []
    },
    {
      "cell_type": "markdown",
      "source": [
        "### Model Assembly"
      ],
      "metadata": {
        "id": "CERPHhLjQgmq"
      }
    },
    {
      "cell_type": "markdown",
      "source": [
        "![](https://github.com/dvgodoy/PyTorchStepByStep/blob/master/images/full_transformer_and_class.png?raw=1)"
      ],
      "metadata": {
        "id": "2XUkWggfQlzl"
      }
    },
    {
      "cell_type": "markdown",
      "source": [
        "#### 1. Encoder-Decoder"
      ],
      "metadata": {
        "id": "ndVKqP2IQ-x3"
      }
    },
    {
      "cell_type": "code",
      "source": [
        "class EncoderDecoderTransf(nn.Module):\n",
        "    def __init__(self, encoder, decoder, input_len, target_len, n_features):\n",
        "        super(EncoderDecoderTransf, self).__init__()\n",
        "        self.encoder = encoder\n",
        "        self.decoder = decoder\n",
        "        self.input_len = input_len\n",
        "        self.target_len = target_len\n",
        "        self.trg_masks = self.subsequent_mask(self.target_len)\n",
        "        \n",
        "        self.n_features = n_features\n",
        "        self.proj = nn.Linear(n_features, encoder.d_model)\n",
        "        self.linear = nn.Linear(encoder.d_model, n_features)\n",
        "            \n",
        "    @staticmethod\n",
        "    def subsequent_mask(size):\n",
        "        attn_shape = (1, size, size)\n",
        "        subsequent_mask = (1 - torch.triu(torch.ones(attn_shape), diagonal=1))\n",
        "        return subsequent_mask\n",
        "\n",
        "    def encode(self, source_seq, source_mask=None):\n",
        "        # Projection\n",
        "        source_proj = self.proj(source_seq)\n",
        "        encoder_states = self.encoder(source_proj, source_mask)\n",
        "        self.decoder.init_keys(encoder_states)    \n",
        "        \n",
        "    def decode(self, shifted_target_seq, source_mask=None, target_mask=None):\n",
        "        # Projection\n",
        "        target_proj = self.proj(shifted_target_seq)\n",
        "        outputs = self.decoder(target_proj,\n",
        "                               source_mask=source_mask,\n",
        "                               target_mask=target_mask)\n",
        "        # Linear\n",
        "        outputs = self.linear(outputs)\n",
        "        return outputs\n",
        "    \n",
        "    def predict(self, source_seq, source_mask):\n",
        "        inputs = source_seq[:, -1:]\n",
        "        for i in range(self.target_len):\n",
        "            out = self.decode(inputs, source_mask, self.trg_masks[:, :i+1, :i+1])\n",
        "            out = torch.cat([inputs, out[:, -1:, :]], dim=-2)\n",
        "            inputs = out.detach()\n",
        "        outputs = inputs[:, 1:, :]\n",
        "        return outputs\n",
        "                \n",
        "    def forward(self, X, source_mask=None):\n",
        "        self.trg_masks = self.trg_masks.type_as(X).bool()\n",
        "        source_seq = X[:, :self.input_len, :]\n",
        "\n",
        "        self.encode(source_seq, source_mask)\n",
        "        if self.training:\n",
        "            shifted_target_seq = X[:, self.input_len-1:-1, :]\n",
        "            outputs = self.decode(shifted_target_seq, source_mask, self.trg_masks)\n",
        "        else:\n",
        "            outputs = self.predict(source_seq, source_mask)\n",
        "            \n",
        "        return outputs"
      ],
      "metadata": {
        "id": "98EQe6gJP-Hn"
      },
      "execution_count": 135,
      "outputs": []
    },
    {
      "cell_type": "markdown",
      "source": [
        "#### 2. Encoder"
      ],
      "metadata": {
        "id": "lox6BMFOclNK"
      }
    },
    {
      "cell_type": "code",
      "source": [
        "class EncoderTransf(nn.Module):\n",
        "  def __init__(self, encoder_layer, n_layers=1, max_len=100):\n",
        "    super().__init__()\n",
        "    self.d_model = encoder_layer.d_model\n",
        "    self.pe = PositionalEncoding(max_len, self.d_model)\n",
        "    self.norm = nn.LayerNorm(self.d_model)\n",
        "    self.layers = nn.ModuleList([copy.deepcopy(encoder_layer) for _ in range(n_layers)])\n",
        "\n",
        "  def forward(self, query, mask=None):\n",
        "    # Positional Encoding\n",
        "    x = self.pe(query)\n",
        "    for layer in self.layers:\n",
        "      x = layer(x, mask)\n",
        "\n",
        "    # Norm\n",
        "    return self.norm(x)\n"
      ],
      "metadata": {
        "id": "OCf67YiJYXeK"
      },
      "execution_count": 136,
      "outputs": []
    },
    {
      "cell_type": "markdown",
      "source": [
        "#### 3. Decoder"
      ],
      "metadata": {
        "id": "uG18CzVSku2O"
      }
    },
    {
      "cell_type": "code",
      "source": [
        "class DecoderTransf(nn.Module):\n",
        "  def __init__(self, decoder_layer, n_layers=1, max_len=1):\n",
        "    super(DecoderTransf, self).__init__()\n",
        "    self.d_model = decoder_layer.d_model\n",
        "    self.pe = PositionalEncoding(max_len, self.d_model)\n",
        "    self.norm = nn.LayerNorm(self.d_model)\n",
        "    self.layers = nn.ModuleList([copy.deepcopy(decoder_layer) for _ in range(n_layers)])\n",
        "\n",
        "  def init_keys(self, states):\n",
        "    for layer in self.layers:\n",
        "      layer.init_keys(states)\n",
        "\n",
        "  def forward(self, query, source_mask=None, target_mask=None):\n",
        "    # Positional Encoding\n",
        "    x = self.pe(query)\n",
        "    for layer in self.layers:\n",
        "      x = layer(x, source_mask, target_mask)\n",
        "    # Norm \n",
        "    return self.norm(x)"
      ],
      "metadata": {
        "id": "99gwKAbektux"
      },
      "execution_count": 137,
      "outputs": []
    },
    {
      "cell_type": "markdown",
      "source": [
        "#### 4. Positional Encoding"
      ],
      "metadata": {
        "id": "LEXQjYG3tsWB"
      }
    },
    {
      "cell_type": "code",
      "source": [
        "class PossitionalEncoding(nn.Module):\n",
        "  def __init__(self, max_len, d_model):\n",
        "    super(PositionalEncoding, self).__init__()\n",
        "    self.d_model = d_model \n",
        "    pe = torch.zeros(max_len, d_model)\n",
        "    position = torch.arange(0, max_len).float().unsqueeze(1)\n",
        "    slope = torch.exp(torch.arange(0, d_model, 2).float() * (-np.log(10000.0) / d_model))\n",
        "    pe[:, 0::2] = torch.sin(position * slope) # even dimension\n",
        "    pe[:, 1::2] = torch.cos(position * slope) # odd dimension \n",
        "    self.register_buffer('pe', pe.unsqueeze(0))\n",
        "\n",
        "  def forward(self, x):\n",
        "    # x is N, L, D\n",
        "    # pe is 1, maxlen, D \n",
        "    scaled_x = x * np.sqrt(self.d_model)\n",
        "    encoded = scaled_x + self.pe[:, :x.size(1), :]\n",
        "    return encoded"
      ],
      "metadata": {
        "id": "gxM1LmzboL6o"
      },
      "execution_count": 138,
      "outputs": []
    },
    {
      "cell_type": "markdown",
      "source": [
        "#### 5. Encoder \"Layer\""
      ],
      "metadata": {
        "id": "srlkWuXQ5jvq"
      }
    },
    {
      "cell_type": "code",
      "source": [
        "class EncoderLayer(nn.Module):\n",
        "  def __init__(self, n_heads, d_model, ff_units, dropout=0.1):\n",
        "    super().__init__()\n",
        "    self.n_heads = n_heads \n",
        "    self.d_model = d_model \n",
        "    self.ff_unites = ff_units\n",
        "    self.self_attn_heads = MultiHeadedAttention(n_heads, d_model, dropout=dropout)\n",
        "\n",
        "\n",
        "    self.ffn = nn.Sequential(\n",
        "        nn.Linear(d_model, ff_units),\n",
        "        nn.ReLU(),\n",
        "        nn.Dropout(dropout),\n",
        "        nn.Linear(ff_units, d_model), \n",
        "\n",
        "    )\n",
        "    \n",
        "    self.sublayers = nn.ModuleList([SubLayerWrapper(d_model, dropout) for _ in range(2)])\n",
        "\n",
        "  def forward(self, query, mask=None):\n",
        "    # Sublayer 0 - Self-Attention\n",
        "    att = self.sublayers[0](query,\n",
        "                            sublayer=self.self_attn_heads,\n",
        "                            is_self_attn = True,\n",
        "                            mask=mask)\n",
        "    \n",
        "    # Sublayer 1 - FFN\n",
        "    out = self.sublayers[1](att, sublayer=self.ffn)\n",
        "    return out"
      ],
      "metadata": {
        "id": "4KpS0MSn5LJO"
      },
      "execution_count": 139,
      "outputs": []
    },
    {
      "cell_type": "markdown",
      "source": [
        "#### 6. Decoder Layer"
      ],
      "metadata": {
        "id": "6zZ73CdDJYW6"
      }
    },
    {
      "cell_type": "code",
      "source": [
        "class DecoderLayer(nn.Module):\n",
        "  def __init__(self, n_heads, d_model, ff_units, dropout=0.1):\n",
        "    super().__init__()\n",
        "    self.n_heads = n_heads\n",
        "    self.d_model = d_model \n",
        "    self.ff_units = ff_units \n",
        "    self.self_attn_heads = MultiHeadedAttention(\n",
        "        n_heads, d_model, dropout=dropout\n",
        "    )\n",
        "    self.cross_attn_heads = MultiHeadedAttention(\n",
        "        n_heads, d_model, dropout=dropout\n",
        "    )\n",
        "    self.ff_nn = nn.Sequential(\n",
        "        nn.Linear(d_model, ff_units),\n",
        "        nn.ReLU(),\n",
        "        nn.Dropout(dropout),\n",
        "        nn.Linear(ff_units, d_model),\n",
        "    )\n",
        "\n",
        "    self.sublayers = nn.ModuleList([SubLayerWrapper(d_model, dropout) for _ in range(3)])\n",
        "\n",
        "  def init_keys(self, states):\n",
        "    self.cross_attn_heads.init_keys(states)\n",
        "\n",
        "  def forward(self, query, source_mask=None, target_mask=None):\n",
        "    # Sublayer 0 - Masked Self-Attention\n",
        "    att1 = self.sublayers[0](query,\n",
        "                             sublayer=self.self_attn_heads,\n",
        "                             is_self_attn=True,\n",
        "                             mask=target_mask)\n",
        "    \n",
        "    # Sublayer 1 - Cross Attention\n",
        "    att2 = self.sublayers[1](att1,\n",
        "                             sublayer=self.cross_attn_heads,\n",
        "                             mask=source_mask)\n",
        "    \n",
        "    # Sublayer 2 - FFN\n",
        "    out = self.sublayers[2](att2, sublayer=self.ff_units)\n",
        "    return out"
      ],
      "metadata": {
        "id": "6w3iNB1v-9u6"
      },
      "execution_count": 140,
      "outputs": []
    },
    {
      "cell_type": "markdown",
      "source": [
        "#### 7. \"Sublayer\" Wrapper"
      ],
      "metadata": {
        "id": "4wK0WbRlS7mf"
      }
    },
    {
      "cell_type": "code",
      "source": [
        "class SubLayerWrapper(nn.Module):\n",
        "    def __init__(self, d_model, dropout):\n",
        "        super().__init__()\n",
        "        self.norm = nn.LayerNorm(d_model)\n",
        "        self.drop = nn.Dropout(dropout)\n",
        "        \n",
        "    def forward(self, x, sublayer, is_self_attn=False, **kwargs):\n",
        "        norm_x = self.norm(x)\n",
        "        if is_self_attn:\n",
        "            sublayer.init_keys(norm_x)\n",
        "        out = x + self.drop(sublayer(norm_x, **kwargs))\n",
        "        return out"
      ],
      "metadata": {
        "id": "eLJFKrtZR46c"
      },
      "execution_count": 148,
      "outputs": []
    },
    {
      "cell_type": "code",
      "source": [
        "# Before \n",
        "def forward(self, query, mask=None):\n",
        "  # query and mask go in \n",
        "  norm_query = self.norm1(query)\n",
        "  self.self_attn_heads.init_keys(norm_query)\n",
        "  # the sublayer is the self-attention\n",
        "  states = self.self_attn_heads(norm_query, mask)\n",
        "  att = query + self.drop1(states)\n",
        "  # att comes out \n",
        "\n",
        "  ...\n",
        "  \n",
        "# After\n",
        "def forward(self, query, mask=None):\n",
        "  # query and mask go in\n",
        "  # the sublayer is the self-attention \n",
        "  # norm, drop, and residual are inside the wrapper\n",
        "  att = self.sublayer[0](query, \n",
        "                         sublayer=self.self_attn_heads,\n",
        "                         is_self_attn=True,\n",
        "                         mask=mask)\n",
        "\n",
        "  # att comes out\n",
        "  \n"
      ],
      "metadata": {
        "id": "F351tuk9WHOW"
      },
      "execution_count": 149,
      "outputs": []
    },
    {
      "cell_type": "markdown",
      "source": [
        "#### 8. Multi-Head Attention"
      ],
      "metadata": {
        "id": "zaFAlILUV6hJ"
      }
    },
    {
      "cell_type": "code",
      "source": [
        "class MultiHeadedAttention(nn.Module):\n",
        "  def __init__(self, n_heads, d_model, dropout=0.1):\n",
        "    super(MultiHeadedAttention, self).__init__()\n",
        "    self.n_heads = n_heads\n",
        "    self.d_model = d_model \n",
        "    self.d_k = int(d_model /n_heads)\n",
        "    self.linear_query = nn.Linear(d_model, d_model)\n",
        "    self.linear_key = nn.Linear(d_model, d_model)\n",
        "    self.linear_value = nn.Linear(d_model, d_model)\n",
        "    self.linear_out = nn.Linear(d_model, d_model)\n",
        "    self.dropout = nn.Dropout(p=dropout)\n",
        "    self.alphas = None\n",
        "\n",
        "  def make_chunks(self, x):\n",
        "    batch_size, seq_len = x.size(0), x.size(1)\n",
        "    # N, L, D -> N, L, n_heads * d_k\n",
        "    x = x.view(batch_size, seq_len, self.n_heads, self.d_k)\n",
        "    # N, n_heads, L, d_k\n",
        "    x = x.transpose(1, 2)\n",
        "    return x\n",
        "\n",
        "  def init_keys(self, key):\n",
        "    # N, n_heads, L, d_k\n",
        "    self.proj_key = self.make_chunks(self.linear_key(key))\n",
        "    self.proj_value = self.make_chunks(self.linear_value(key))\n",
        "\n",
        "  def score_function(self, query):\n",
        "    # scaled dot product\n",
        "    # N, n_heads, L, d_k, x # N, n_heads, d_k, L -> N, n_heads, L, L\n",
        "    proj_query = self.make_chunks(self.linear_query(query))\n",
        "    dot_products = torch.matmul(proj_query, self.proj_key.transpose(-2, -1))\n",
        "    scores = dot_products / np.sqrt(self.d_k)\n",
        "    return scores\n",
        "\n",
        "  def attn(self, query, mask=None):\n",
        "    # Query is batch-first: N, L, D\n",
        "    # Score function will generate scores for each ahead \n",
        "    scores = self.score_function(query) # N, n_heads, L, L \n",
        "    if mask is not None:\n",
        "      scores = scores.masked_fill(mask == 0, -1e9)\n",
        "    alphas = F.softmax(scores, dim=-1) # N, n_heads, L, L \n",
        "    alphas = self.dropout(alphas)\n",
        "    self.alphas = alphas.detach()\n",
        "\n",
        "    # N, n_heads, L, L x N, n_heads, L, d_k -> N, n_heads, L, d_k \n",
        "    context = torch.matmul(alphas, self.proj_value)\n",
        "    return context\n",
        "\n",
        "  def output_function(self, contexts):\n",
        "    # N, L, D\n",
        "    out = self.linear_out(contexts) # N, L, D\n",
        "    return out \n",
        "\n",
        "  def forward(self, query, mask=None):\n",
        "    if mask is not None:\n",
        "      # N, 1, L, L  - every head uses the same mask \n",
        "      mask = mask.squeeze(1)\n",
        "\n",
        "    # N, n_heads, L, d_k \n",
        "    context = self.attn(query, mask=mask)\n",
        "    # N, L, n_heads, d_k \n",
        "    context = context.transpose(1, 2).contiguous()\n",
        "    # N, L, n_heads * d_k = N, L, d_model \n",
        "    context = context.view(query.size(0), -1, self.d_model)\n",
        "    # N, L, d_model\n",
        "    out = self.output_function(context)\n",
        "    return out\n",
        "\n"
      ],
      "metadata": {
        "id": "bFpgD7q_V4Of"
      },
      "execution_count": 150,
      "outputs": []
    },
    {
      "cell_type": "markdown",
      "source": [
        "### Model Configuration and Training"
      ],
      "metadata": {
        "id": "ibuWQOBG6zww"
      }
    },
    {
      "cell_type": "code",
      "source": [
        "torch.manual_seed(42)\n",
        "# Layers\n",
        "enclayer = EncoderLayer(n_heads=3, d_model=6, ff_units=10, dropout=0.1)\n",
        "declayer = DecoderLayer(n_heads=3, d_model=6, ff_units=10, dropout=0.1)\n",
        "# Encoder and Decoder\n",
        "enctransf = EncoderTransf(enclayer, n_layers=2)\n",
        "dectransf = DecoderTransf(declayer, n_layers=2)\n",
        "# Transformer\n",
        "model_transf = EncoderDecoderTransf(enctransf, dectransf, input_len=2, target_len=2, n_features=2)\n",
        "loss = nn.MSELoss()\n",
        "optimizer = torch.optim.Adam(model_transf.parameters(), lr=0.01)"
      ],
      "metadata": {
        "id": "kv1dNJ_A4b8-"
      },
      "execution_count": 151,
      "outputs": []
    },
    {
      "cell_type": "code",
      "source": [
        "for p in model_transf.parameters():\n",
        "  if p.dim() > 1:\n",
        "    nn.init.xavier_uniform_(p)"
      ],
      "metadata": {
        "id": "Mh6v5HuH8ZeJ"
      },
      "execution_count": 152,
      "outputs": []
    },
    {
      "cell_type": "code",
      "source": [
        "sbs_seq_transf = StepByStep(model_transf, loss, optimizer) \n",
        "sbs_seq_transf.set_loaders(train_loader, test_loader) \n",
        "sbs_seq_transf.train(50)"
      ],
      "metadata": {
        "colab": {
          "base_uri": "https://localhost:8080/",
          "height": 1000
        },
        "id": "VMIAsKJE92Z0",
        "outputId": "cfcccc5f-5aa2-478a-89f9-a39d834c2a59"
      },
      "execution_count": 153,
      "outputs": [
        {
          "output_type": "error",
          "ename": "TypeError",
          "evalue": "ignored",
          "traceback": [
            "\u001b[0;31m---------------------------------------------------------------------------\u001b[0m",
            "\u001b[0;31mTypeError\u001b[0m                                 Traceback (most recent call last)",
            "\u001b[0;32m<ipython-input-153-8d95d96198bc>\u001b[0m in \u001b[0;36m<module>\u001b[0;34m\u001b[0m\n\u001b[1;32m      1\u001b[0m \u001b[0msbs_seq_transf\u001b[0m \u001b[0;34m=\u001b[0m \u001b[0mStepByStep\u001b[0m\u001b[0;34m(\u001b[0m\u001b[0mmodel_transf\u001b[0m\u001b[0;34m,\u001b[0m \u001b[0mloss\u001b[0m\u001b[0;34m,\u001b[0m \u001b[0moptimizer\u001b[0m\u001b[0;34m)\u001b[0m\u001b[0;34m\u001b[0m\u001b[0;34m\u001b[0m\u001b[0m\n\u001b[1;32m      2\u001b[0m \u001b[0msbs_seq_transf\u001b[0m\u001b[0;34m.\u001b[0m\u001b[0mset_loaders\u001b[0m\u001b[0;34m(\u001b[0m\u001b[0mtrain_loader\u001b[0m\u001b[0;34m,\u001b[0m \u001b[0mtest_loader\u001b[0m\u001b[0;34m)\u001b[0m\u001b[0;34m\u001b[0m\u001b[0;34m\u001b[0m\u001b[0m\n\u001b[0;32m----> 3\u001b[0;31m \u001b[0msbs_seq_transf\u001b[0m\u001b[0;34m.\u001b[0m\u001b[0mtrain\u001b[0m\u001b[0;34m(\u001b[0m\u001b[0;36m50\u001b[0m\u001b[0;34m)\u001b[0m\u001b[0;34m\u001b[0m\u001b[0;34m\u001b[0m\u001b[0m\n\u001b[0m",
            "\u001b[0;32m/content/stepbystep/v4.py\u001b[0m in \u001b[0;36mtrain\u001b[0;34m(self, n_epochs, seed)\u001b[0m\n\u001b[1;32m    184\u001b[0m             \u001b[0;31m# inner loop\u001b[0m\u001b[0;34m\u001b[0m\u001b[0;34m\u001b[0m\u001b[0m\n\u001b[1;32m    185\u001b[0m             \u001b[0;31m# Performs training using mini-batches\u001b[0m\u001b[0;34m\u001b[0m\u001b[0;34m\u001b[0m\u001b[0m\n\u001b[0;32m--> 186\u001b[0;31m             \u001b[0mloss\u001b[0m \u001b[0;34m=\u001b[0m \u001b[0mself\u001b[0m\u001b[0;34m.\u001b[0m\u001b[0m_mini_batch\u001b[0m\u001b[0;34m(\u001b[0m\u001b[0mvalidation\u001b[0m\u001b[0;34m=\u001b[0m\u001b[0;32mFalse\u001b[0m\u001b[0;34m)\u001b[0m\u001b[0;34m\u001b[0m\u001b[0;34m\u001b[0m\u001b[0m\n\u001b[0m\u001b[1;32m    187\u001b[0m             \u001b[0mself\u001b[0m\u001b[0;34m.\u001b[0m\u001b[0mlosses\u001b[0m\u001b[0;34m.\u001b[0m\u001b[0mappend\u001b[0m\u001b[0;34m(\u001b[0m\u001b[0mloss\u001b[0m\u001b[0;34m)\u001b[0m\u001b[0;34m\u001b[0m\u001b[0;34m\u001b[0m\u001b[0m\n\u001b[1;32m    188\u001b[0m \u001b[0;34m\u001b[0m\u001b[0m\n",
            "\u001b[0;32m/content/stepbystep/v4.py\u001b[0m in \u001b[0;36m_mini_batch\u001b[0;34m(self, validation)\u001b[0m\n\u001b[1;32m    153\u001b[0m             \u001b[0my_batch\u001b[0m \u001b[0;34m=\u001b[0m \u001b[0my_batch\u001b[0m\u001b[0;34m.\u001b[0m\u001b[0mto\u001b[0m\u001b[0;34m(\u001b[0m\u001b[0mself\u001b[0m\u001b[0;34m.\u001b[0m\u001b[0mdevice\u001b[0m\u001b[0;34m)\u001b[0m\u001b[0;34m\u001b[0m\u001b[0;34m\u001b[0m\u001b[0m\n\u001b[1;32m    154\u001b[0m \u001b[0;34m\u001b[0m\u001b[0m\n\u001b[0;32m--> 155\u001b[0;31m             \u001b[0mmini_batch_loss\u001b[0m \u001b[0;34m=\u001b[0m \u001b[0mstep_fn\u001b[0m\u001b[0;34m(\u001b[0m\u001b[0mx_batch\u001b[0m\u001b[0;34m,\u001b[0m \u001b[0my_batch\u001b[0m\u001b[0;34m)\u001b[0m\u001b[0;34m\u001b[0m\u001b[0;34m\u001b[0m\u001b[0m\n\u001b[0m\u001b[1;32m    156\u001b[0m             \u001b[0mmini_batch_losses\u001b[0m\u001b[0;34m.\u001b[0m\u001b[0mappend\u001b[0m\u001b[0;34m(\u001b[0m\u001b[0mmini_batch_loss\u001b[0m\u001b[0;34m)\u001b[0m\u001b[0;34m\u001b[0m\u001b[0;34m\u001b[0m\u001b[0m\n\u001b[1;32m    157\u001b[0m \u001b[0;34m\u001b[0m\u001b[0m\n",
            "\u001b[0;32m/content/stepbystep/v4.py\u001b[0m in \u001b[0;36mperform_train_step_fn\u001b[0;34m(x, y)\u001b[0m\n\u001b[1;32m     97\u001b[0m \u001b[0;34m\u001b[0m\u001b[0m\n\u001b[1;32m     98\u001b[0m             \u001b[0;31m# Step 1 - Computes our model's predicted output - forward pass\u001b[0m\u001b[0;34m\u001b[0m\u001b[0;34m\u001b[0m\u001b[0m\n\u001b[0;32m---> 99\u001b[0;31m             \u001b[0myhat\u001b[0m \u001b[0;34m=\u001b[0m \u001b[0mself\u001b[0m\u001b[0;34m.\u001b[0m\u001b[0mmodel\u001b[0m\u001b[0;34m(\u001b[0m\u001b[0mx\u001b[0m\u001b[0;34m)\u001b[0m\u001b[0;34m\u001b[0m\u001b[0;34m\u001b[0m\u001b[0m\n\u001b[0m\u001b[1;32m    100\u001b[0m             \u001b[0;31m# Step 2 - Computes the loss\u001b[0m\u001b[0;34m\u001b[0m\u001b[0;34m\u001b[0m\u001b[0m\n\u001b[1;32m    101\u001b[0m             \u001b[0mloss\u001b[0m \u001b[0;34m=\u001b[0m \u001b[0mself\u001b[0m\u001b[0;34m.\u001b[0m\u001b[0mloss_fn\u001b[0m\u001b[0;34m(\u001b[0m\u001b[0myhat\u001b[0m\u001b[0;34m,\u001b[0m \u001b[0my\u001b[0m\u001b[0;34m)\u001b[0m\u001b[0;34m\u001b[0m\u001b[0;34m\u001b[0m\u001b[0m\n",
            "\u001b[0;32m/usr/local/lib/python3.9/dist-packages/torch/nn/modules/module.py\u001b[0m in \u001b[0;36m_call_impl\u001b[0;34m(self, *input, **kwargs)\u001b[0m\n\u001b[1;32m   1192\u001b[0m         if not (self._backward_hooks or self._forward_hooks or self._forward_pre_hooks or _global_backward_hooks\n\u001b[1;32m   1193\u001b[0m                 or _global_forward_hooks or _global_forward_pre_hooks):\n\u001b[0;32m-> 1194\u001b[0;31m             \u001b[0;32mreturn\u001b[0m \u001b[0mforward_call\u001b[0m\u001b[0;34m(\u001b[0m\u001b[0;34m*\u001b[0m\u001b[0minput\u001b[0m\u001b[0;34m,\u001b[0m \u001b[0;34m**\u001b[0m\u001b[0mkwargs\u001b[0m\u001b[0;34m)\u001b[0m\u001b[0;34m\u001b[0m\u001b[0;34m\u001b[0m\u001b[0m\n\u001b[0m\u001b[1;32m   1195\u001b[0m         \u001b[0;31m# Do not call functions when jit is used\u001b[0m\u001b[0;34m\u001b[0m\u001b[0;34m\u001b[0m\u001b[0m\n\u001b[1;32m   1196\u001b[0m         \u001b[0mfull_backward_hooks\u001b[0m\u001b[0;34m,\u001b[0m \u001b[0mnon_full_backward_hooks\u001b[0m \u001b[0;34m=\u001b[0m \u001b[0;34m[\u001b[0m\u001b[0;34m]\u001b[0m\u001b[0;34m,\u001b[0m \u001b[0;34m[\u001b[0m\u001b[0;34m]\u001b[0m\u001b[0;34m\u001b[0m\u001b[0;34m\u001b[0m\u001b[0m\n",
            "\u001b[0;32m<ipython-input-135-c4ce912f84fe>\u001b[0m in \u001b[0;36mforward\u001b[0;34m(self, X, source_mask)\u001b[0m\n\u001b[1;32m     50\u001b[0m         \u001b[0;32mif\u001b[0m \u001b[0mself\u001b[0m\u001b[0;34m.\u001b[0m\u001b[0mtraining\u001b[0m\u001b[0;34m:\u001b[0m\u001b[0;34m\u001b[0m\u001b[0;34m\u001b[0m\u001b[0m\n\u001b[1;32m     51\u001b[0m             \u001b[0mshifted_target_seq\u001b[0m \u001b[0;34m=\u001b[0m \u001b[0mX\u001b[0m\u001b[0;34m[\u001b[0m\u001b[0;34m:\u001b[0m\u001b[0;34m,\u001b[0m \u001b[0mself\u001b[0m\u001b[0;34m.\u001b[0m\u001b[0minput_len\u001b[0m\u001b[0;34m-\u001b[0m\u001b[0;36m1\u001b[0m\u001b[0;34m:\u001b[0m\u001b[0;34m-\u001b[0m\u001b[0;36m1\u001b[0m\u001b[0;34m,\u001b[0m \u001b[0;34m:\u001b[0m\u001b[0;34m]\u001b[0m\u001b[0;34m\u001b[0m\u001b[0;34m\u001b[0m\u001b[0m\n\u001b[0;32m---> 52\u001b[0;31m             \u001b[0moutputs\u001b[0m \u001b[0;34m=\u001b[0m \u001b[0mself\u001b[0m\u001b[0;34m.\u001b[0m\u001b[0mdecode\u001b[0m\u001b[0;34m(\u001b[0m\u001b[0mshifted_target_seq\u001b[0m\u001b[0;34m,\u001b[0m \u001b[0msource_mask\u001b[0m\u001b[0;34m,\u001b[0m \u001b[0mself\u001b[0m\u001b[0;34m.\u001b[0m\u001b[0mtrg_masks\u001b[0m\u001b[0;34m)\u001b[0m\u001b[0;34m\u001b[0m\u001b[0;34m\u001b[0m\u001b[0m\n\u001b[0m\u001b[1;32m     53\u001b[0m         \u001b[0;32melse\u001b[0m\u001b[0;34m:\u001b[0m\u001b[0;34m\u001b[0m\u001b[0;34m\u001b[0m\u001b[0m\n\u001b[1;32m     54\u001b[0m             \u001b[0moutputs\u001b[0m \u001b[0;34m=\u001b[0m \u001b[0mself\u001b[0m\u001b[0;34m.\u001b[0m\u001b[0mpredict\u001b[0m\u001b[0;34m(\u001b[0m\u001b[0msource_seq\u001b[0m\u001b[0;34m,\u001b[0m \u001b[0msource_mask\u001b[0m\u001b[0;34m)\u001b[0m\u001b[0;34m\u001b[0m\u001b[0;34m\u001b[0m\u001b[0m\n",
            "\u001b[0;32m<ipython-input-135-c4ce912f84fe>\u001b[0m in \u001b[0;36mdecode\u001b[0;34m(self, shifted_target_seq, source_mask, target_mask)\u001b[0m\n\u001b[1;32m     27\u001b[0m         \u001b[0;31m# Projection\u001b[0m\u001b[0;34m\u001b[0m\u001b[0;34m\u001b[0m\u001b[0m\n\u001b[1;32m     28\u001b[0m         \u001b[0mtarget_proj\u001b[0m \u001b[0;34m=\u001b[0m \u001b[0mself\u001b[0m\u001b[0;34m.\u001b[0m\u001b[0mproj\u001b[0m\u001b[0;34m(\u001b[0m\u001b[0mshifted_target_seq\u001b[0m\u001b[0;34m)\u001b[0m\u001b[0;34m\u001b[0m\u001b[0;34m\u001b[0m\u001b[0m\n\u001b[0;32m---> 29\u001b[0;31m         outputs = self.decoder(target_proj,\n\u001b[0m\u001b[1;32m     30\u001b[0m                                \u001b[0msource_mask\u001b[0m\u001b[0;34m=\u001b[0m\u001b[0msource_mask\u001b[0m\u001b[0;34m,\u001b[0m\u001b[0;34m\u001b[0m\u001b[0;34m\u001b[0m\u001b[0m\n\u001b[1;32m     31\u001b[0m                                target_mask=target_mask)\n",
            "\u001b[0;32m/usr/local/lib/python3.9/dist-packages/torch/nn/modules/module.py\u001b[0m in \u001b[0;36m_call_impl\u001b[0;34m(self, *input, **kwargs)\u001b[0m\n\u001b[1;32m   1192\u001b[0m         if not (self._backward_hooks or self._forward_hooks or self._forward_pre_hooks or _global_backward_hooks\n\u001b[1;32m   1193\u001b[0m                 or _global_forward_hooks or _global_forward_pre_hooks):\n\u001b[0;32m-> 1194\u001b[0;31m             \u001b[0;32mreturn\u001b[0m \u001b[0mforward_call\u001b[0m\u001b[0;34m(\u001b[0m\u001b[0;34m*\u001b[0m\u001b[0minput\u001b[0m\u001b[0;34m,\u001b[0m \u001b[0;34m**\u001b[0m\u001b[0mkwargs\u001b[0m\u001b[0;34m)\u001b[0m\u001b[0;34m\u001b[0m\u001b[0;34m\u001b[0m\u001b[0m\n\u001b[0m\u001b[1;32m   1195\u001b[0m         \u001b[0;31m# Do not call functions when jit is used\u001b[0m\u001b[0;34m\u001b[0m\u001b[0;34m\u001b[0m\u001b[0m\n\u001b[1;32m   1196\u001b[0m         \u001b[0mfull_backward_hooks\u001b[0m\u001b[0;34m,\u001b[0m \u001b[0mnon_full_backward_hooks\u001b[0m \u001b[0;34m=\u001b[0m \u001b[0;34m[\u001b[0m\u001b[0;34m]\u001b[0m\u001b[0;34m,\u001b[0m \u001b[0;34m[\u001b[0m\u001b[0;34m]\u001b[0m\u001b[0;34m\u001b[0m\u001b[0;34m\u001b[0m\u001b[0m\n",
            "\u001b[0;32m<ipython-input-137-10d60cac847d>\u001b[0m in \u001b[0;36mforward\u001b[0;34m(self, query, source_mask, target_mask)\u001b[0m\n\u001b[1;32m     15\u001b[0m     \u001b[0mx\u001b[0m \u001b[0;34m=\u001b[0m \u001b[0mself\u001b[0m\u001b[0;34m.\u001b[0m\u001b[0mpe\u001b[0m\u001b[0;34m(\u001b[0m\u001b[0mquery\u001b[0m\u001b[0;34m)\u001b[0m\u001b[0;34m\u001b[0m\u001b[0;34m\u001b[0m\u001b[0m\n\u001b[1;32m     16\u001b[0m     \u001b[0;32mfor\u001b[0m \u001b[0mlayer\u001b[0m \u001b[0;32min\u001b[0m \u001b[0mself\u001b[0m\u001b[0;34m.\u001b[0m\u001b[0mlayers\u001b[0m\u001b[0;34m:\u001b[0m\u001b[0;34m\u001b[0m\u001b[0;34m\u001b[0m\u001b[0m\n\u001b[0;32m---> 17\u001b[0;31m       \u001b[0mx\u001b[0m \u001b[0;34m=\u001b[0m \u001b[0mlayer\u001b[0m\u001b[0;34m(\u001b[0m\u001b[0mx\u001b[0m\u001b[0;34m,\u001b[0m \u001b[0msource_mask\u001b[0m\u001b[0;34m,\u001b[0m \u001b[0mtarget_mask\u001b[0m\u001b[0;34m)\u001b[0m\u001b[0;34m\u001b[0m\u001b[0;34m\u001b[0m\u001b[0m\n\u001b[0m\u001b[1;32m     18\u001b[0m     \u001b[0;31m# Norm\u001b[0m\u001b[0;34m\u001b[0m\u001b[0;34m\u001b[0m\u001b[0m\n\u001b[1;32m     19\u001b[0m     \u001b[0;32mreturn\u001b[0m \u001b[0mself\u001b[0m\u001b[0;34m.\u001b[0m\u001b[0mnorm\u001b[0m\u001b[0;34m(\u001b[0m\u001b[0mx\u001b[0m\u001b[0;34m)\u001b[0m\u001b[0;34m\u001b[0m\u001b[0;34m\u001b[0m\u001b[0m\n",
            "\u001b[0;32m/usr/local/lib/python3.9/dist-packages/torch/nn/modules/module.py\u001b[0m in \u001b[0;36m_call_impl\u001b[0;34m(self, *input, **kwargs)\u001b[0m\n\u001b[1;32m   1192\u001b[0m         if not (self._backward_hooks or self._forward_hooks or self._forward_pre_hooks or _global_backward_hooks\n\u001b[1;32m   1193\u001b[0m                 or _global_forward_hooks or _global_forward_pre_hooks):\n\u001b[0;32m-> 1194\u001b[0;31m             \u001b[0;32mreturn\u001b[0m \u001b[0mforward_call\u001b[0m\u001b[0;34m(\u001b[0m\u001b[0;34m*\u001b[0m\u001b[0minput\u001b[0m\u001b[0;34m,\u001b[0m \u001b[0;34m**\u001b[0m\u001b[0mkwargs\u001b[0m\u001b[0;34m)\u001b[0m\u001b[0;34m\u001b[0m\u001b[0;34m\u001b[0m\u001b[0m\n\u001b[0m\u001b[1;32m   1195\u001b[0m         \u001b[0;31m# Do not call functions when jit is used\u001b[0m\u001b[0;34m\u001b[0m\u001b[0;34m\u001b[0m\u001b[0m\n\u001b[1;32m   1196\u001b[0m         \u001b[0mfull_backward_hooks\u001b[0m\u001b[0;34m,\u001b[0m \u001b[0mnon_full_backward_hooks\u001b[0m \u001b[0;34m=\u001b[0m \u001b[0;34m[\u001b[0m\u001b[0;34m]\u001b[0m\u001b[0;34m,\u001b[0m \u001b[0;34m[\u001b[0m\u001b[0;34m]\u001b[0m\u001b[0;34m\u001b[0m\u001b[0;34m\u001b[0m\u001b[0m\n",
            "\u001b[0;32m<ipython-input-140-0e35ad772028>\u001b[0m in \u001b[0;36mforward\u001b[0;34m(self, query, source_mask, target_mask)\u001b[0m\n\u001b[1;32m     36\u001b[0m \u001b[0;34m\u001b[0m\u001b[0m\n\u001b[1;32m     37\u001b[0m     \u001b[0;31m# Sublayer 2 - FFN\u001b[0m\u001b[0;34m\u001b[0m\u001b[0;34m\u001b[0m\u001b[0m\n\u001b[0;32m---> 38\u001b[0;31m     \u001b[0mout\u001b[0m \u001b[0;34m=\u001b[0m \u001b[0mself\u001b[0m\u001b[0;34m.\u001b[0m\u001b[0msublayers\u001b[0m\u001b[0;34m[\u001b[0m\u001b[0;36m2\u001b[0m\u001b[0;34m]\u001b[0m\u001b[0;34m(\u001b[0m\u001b[0matt2\u001b[0m\u001b[0;34m,\u001b[0m \u001b[0msublayer\u001b[0m\u001b[0;34m=\u001b[0m\u001b[0mself\u001b[0m\u001b[0;34m.\u001b[0m\u001b[0mff_units\u001b[0m\u001b[0;34m)\u001b[0m\u001b[0;34m\u001b[0m\u001b[0;34m\u001b[0m\u001b[0m\n\u001b[0m\u001b[1;32m     39\u001b[0m     \u001b[0;32mreturn\u001b[0m \u001b[0mout\u001b[0m\u001b[0;34m\u001b[0m\u001b[0;34m\u001b[0m\u001b[0m\n",
            "\u001b[0;32m/usr/local/lib/python3.9/dist-packages/torch/nn/modules/module.py\u001b[0m in \u001b[0;36m_call_impl\u001b[0;34m(self, *input, **kwargs)\u001b[0m\n\u001b[1;32m   1192\u001b[0m         if not (self._backward_hooks or self._forward_hooks or self._forward_pre_hooks or _global_backward_hooks\n\u001b[1;32m   1193\u001b[0m                 or _global_forward_hooks or _global_forward_pre_hooks):\n\u001b[0;32m-> 1194\u001b[0;31m             \u001b[0;32mreturn\u001b[0m \u001b[0mforward_call\u001b[0m\u001b[0;34m(\u001b[0m\u001b[0;34m*\u001b[0m\u001b[0minput\u001b[0m\u001b[0;34m,\u001b[0m \u001b[0;34m**\u001b[0m\u001b[0mkwargs\u001b[0m\u001b[0;34m)\u001b[0m\u001b[0;34m\u001b[0m\u001b[0;34m\u001b[0m\u001b[0m\n\u001b[0m\u001b[1;32m   1195\u001b[0m         \u001b[0;31m# Do not call functions when jit is used\u001b[0m\u001b[0;34m\u001b[0m\u001b[0;34m\u001b[0m\u001b[0m\n\u001b[1;32m   1196\u001b[0m         \u001b[0mfull_backward_hooks\u001b[0m\u001b[0;34m,\u001b[0m \u001b[0mnon_full_backward_hooks\u001b[0m \u001b[0;34m=\u001b[0m \u001b[0;34m[\u001b[0m\u001b[0;34m]\u001b[0m\u001b[0;34m,\u001b[0m \u001b[0;34m[\u001b[0m\u001b[0;34m]\u001b[0m\u001b[0;34m\u001b[0m\u001b[0;34m\u001b[0m\u001b[0m\n",
            "\u001b[0;32m<ipython-input-148-895526a61309>\u001b[0m in \u001b[0;36mforward\u001b[0;34m(self, x, sublayer, is_self_attn, **kwargs)\u001b[0m\n\u001b[1;32m      9\u001b[0m         \u001b[0;32mif\u001b[0m \u001b[0mis_self_attn\u001b[0m\u001b[0;34m:\u001b[0m\u001b[0;34m\u001b[0m\u001b[0;34m\u001b[0m\u001b[0m\n\u001b[1;32m     10\u001b[0m             \u001b[0msublayer\u001b[0m\u001b[0;34m.\u001b[0m\u001b[0minit_keys\u001b[0m\u001b[0;34m(\u001b[0m\u001b[0mnorm_x\u001b[0m\u001b[0;34m)\u001b[0m\u001b[0;34m\u001b[0m\u001b[0;34m\u001b[0m\u001b[0m\n\u001b[0;32m---> 11\u001b[0;31m         \u001b[0mout\u001b[0m \u001b[0;34m=\u001b[0m \u001b[0mx\u001b[0m \u001b[0;34m+\u001b[0m \u001b[0mself\u001b[0m\u001b[0;34m.\u001b[0m\u001b[0mdrop\u001b[0m\u001b[0;34m(\u001b[0m\u001b[0msublayer\u001b[0m\u001b[0;34m(\u001b[0m\u001b[0mnorm_x\u001b[0m\u001b[0;34m,\u001b[0m \u001b[0;34m**\u001b[0m\u001b[0mkwargs\u001b[0m\u001b[0;34m)\u001b[0m\u001b[0;34m)\u001b[0m\u001b[0;34m\u001b[0m\u001b[0;34m\u001b[0m\u001b[0m\n\u001b[0m\u001b[1;32m     12\u001b[0m         \u001b[0;32mreturn\u001b[0m \u001b[0mout\u001b[0m\u001b[0;34m\u001b[0m\u001b[0;34m\u001b[0m\u001b[0m\n",
            "\u001b[0;31mTypeError\u001b[0m: 'int' object is not callable"
          ]
        }
      ]
    },
    {
      "cell_type": "code",
      "source": [],
      "metadata": {
        "id": "h6BTOJ1u-gxX"
      },
      "execution_count": null,
      "outputs": []
    }
  ]
}